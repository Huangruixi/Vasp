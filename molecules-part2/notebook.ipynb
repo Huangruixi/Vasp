{
 "cells": [
  {
   "cell_type": "markdown",
   "metadata": {},
   "source": [
    "<a name=\"top-molecules-p2\"></a>\n",
    "# **Part 2: Molecules in VASP**"
   ]
  },
  {
   "cell_type": "markdown",
   "metadata": {},
   "source": [
    "<div class=\"download tutorial\" style=\"float: right\">\n",
    "    <a href=\"../../molecules-part2.zip\" download=\"molecules-part2.zip\"> \n",
    "        <button class=\"btn btn-primary\"> <i class=\"fa fa-download\"></i> Download this tutorial</button>\n",
    "    </a> \n",
    "</div>\n",
    "\n",
    "#### Content \n",
    "&emsp;[4 Bond length of the O$_2$ molecule](#molecules-e04)  \n",
    "&emsp;[5 Bond length of carbon monoxide](#molecules-e05)   \n",
    "&emsp;[6 Carbon monoxide vibration](#molecules-e06)   \n",
    "&emsp;[7 Partial density of states of the CO molecule](#molecules-e07)   "
   ]
  },
  {
   "cell_type": "markdown",
   "metadata": {},
   "source": [
    "***\n",
    "<a name=\"molecules-e04\"></a>\n",
    "### **4 Bond length of the O$_2$ molecule** <div style=\"float: right\"><a href=#top-molecules-p2>$\\uparrow$</a></div>"
   ]
  },
  {
   "cell_type": "markdown",
   "metadata": {},
   "source": [
    "By the end of this tutorial, you will be able to:\n",
    "- run a geometry relaxation using a conjugate-gradient algorithm to find the bond length of a dimer\n",
    "- explain geometry relaxation considering Hellmann—Feyman forces and stress on the level of pseudocode\n",
    "- explain the conjugate-gradient algorithm on the level of pseudocode \n",
    "- set the step size for the conjugate-gradient algorithm and the number of ionic steps"
   ]
  },
  {
   "cell_type": "markdown",
   "metadata": {},
   "source": [
    "#### **4.1 Task**"
   ]
  },
  {
   "cell_type": "markdown",
   "metadata": {},
   "source": [
    "*Relax the bond length of an oxygen dimer by means of geometry relaxation using a conjugate-gradient algorithm.*\n",
    "\n",
    "The full many-body Hamiltonian to describe two oxygen atoms bound to form a dimer comprises the electronic and the ionic degrees of freedom. Because ions are much heavier and, thus, slower, these degrees of freedom can be decoupled ([Born—Oppenheimer approximation](https://en.wikipedia.org/wiki/Born–Oppenheimer_approximation)). \n",
    "\n",
    "The term *geometry-relaxation problem* refers to the task of finding the ionic positions with zero forces and stress acting on them. On the level of pseudocode it reads\n",
    "1. given the ionic position, the electronic ground state can be computed within [DFT](#DFT),\n",
    "2. [forces and stress](https://www.vasp.at/wiki/index.php/Forces) acting on the ions can be computed as the expectation value of the gradient of the electronic Hamiltonian ([Hellmann—Feyman theorem](https://en.wikipedia.org/wiki/Hellmann–Feynman_theorem)),\n",
    "3. ions are relaxed to their instantaneous ground state,\n",
    "4. repeat 1.-3. until convergence criterion is met.  \n",
    "\n",
    "For more information read the article about [forces](https://www.vasp.at/wiki/index.php/Forces) and the tags [IBRION](https://www.vasp.at/wiki/index.php/IBRION) and [ISIF](https://www.vasp.at/wiki/index.php/ISIF).\n"
   ]
  },
  {
   "cell_type": "markdown",
   "metadata": {},
   "source": [
    "#### **4.2 Input**\n",
    "\n",
    "The input files to run this example should be prepared at `$TUTORIALS/molecules-part2/e04_O2-bond`. Check them out!"
   ]
  },
  {
   "cell_type": "markdown",
   "metadata": {},
   "source": [
    "[POSCAR](https://www.vasp.at/wiki/index.php/POSCAR)\n",
    "***\n",
    "```\n",
    "O2 molecule in a box\n",
    " 1.0          ! universal scaling parameters\n",
    " 8.0 0.0 0.0  ! lattice vector  a(1)\n",
    " 0.0 8.0 0.0  ! lattice vector  a(2)\n",
    " 0.0 0.0 8.0  ! lattice vector  a(3)\n",
    "2             ! number of atoms\n",
    "cart          ! positions in cartesian coordinates\n",
    " 0 0 0        ! first atom\n",
    " 0 0 1.22     ! second atom\n",
    "```\n",
    "***\n",
    "[INCAR](https://www.vasp.at/wiki/index.php/INCAR)\n",
    "***\n",
    "```\n",
    " SYSTEM = O2 dimer in a box\n",
    " ISMEAR = 0 ! Gaussian smearing\n",
    " ISPIN  = 2 ! spin-polarized calculation\n",
    " NSW    = 5 ! 5 ionic steps\n",
    " IBRION = 2 ! use the conjugate-gradient algorithm\n",
    "```\n",
    "***\n",
    "[KPOINTS](https://www.vasp.at/wiki/index.php/KPOINTS)\n",
    "***\n",
    "```\n",
    "Gamma-point only\n",
    " 0\n",
    "Monkhorst Pack\n",
    " 1 1 1\n",
    " 0 0 0\n",
    "```\n",
    "***\n",
    "[POTCAR](https://www.vasp.at/wiki/index.php/POTCAR)\n",
    "***\n",
    "&emsp;*Pseudopotential of O*\n",
    "***"
   ]
  },
  {
   "cell_type": "markdown",
   "metadata": {},
   "source": [
    "The [POSCAR](https://www.vasp.at/wiki/index.php/POSCAR) file defines the position of two atoms in a large cubic box. They are 1.22 Å apart.\n",
    "\n",
    "Concerning the [INCAR](https://www.vasp.at/wiki/index.php/INCAR) file, in addition to the tags, that were set for the SDFT calculation discussed in [2 Spin-polarized oxygen atom](#2-Spin-polarized-oxygen-atom) of part 1, [NSW](https://www.vasp.at/wiki/index.php/NSW) and [IBRION](https://www.vasp.at/wiki/index.php/IBRION) are set. Go ahead and check the corresponding articles on the [VASP Wiki](https://www.vasp.at/wiki/index.php). You will learn about the conjugate-gradient algorithm and related tags such as [POTIM](https://www.vasp.at/wiki/index.php/POTIM).\n",
    "\n",
    "Remind yourself why it is sufficient to consider one $\\vec{k}$ point or revisit Section 1.2 of part 1 to find the answer."
   ]
  },
  {
   "cell_type": "markdown",
   "metadata": {},
   "source": [
    "#### **4.3 Calculation**"
   ]
  },
  {
   "cell_type": "markdown",
   "metadata": {},
   "source": [
    "Go ahead and run VASP for this example:\n",
    "~~~shell\n",
    "cd $TUTORIALS/molecules-part2/e04_*\n",
    "mpirun -np 2 vasp_gam\n",
    "~~~\n",
    "\n",
    "<a name=\"conjugate-gradient-algorithm\"></a>\n",
    "On the level of pseudocode, the **conjugate-gradient algorithm** reads  \n",
    "\n",
    "1. make a **steepest descent step** starting from one ionic position:\n",
    "   1. set the search direction equal to the direction of the largest gradient \n",
    "   2. do **line minimization** until forces along the search direction for this ion become small\n",
    "   3. update ionic position\n",
    "2. make a **conjugate gradient step** starting from the updated position of the same ion:\n",
    "   1. find the direction of the largest gradient\n",
    "   2. set the search direction equal to the direction of the *conjugate gradient*, that is obtained by orthogonalizing the largest gradient w.r.t. the search direction of the steepest descent step\n",
    "   3. do **line minimization** until forces along the search direction for this ion become small\n",
    "   4. update ionic position\n",
    "3. repeat 1.-2. until gradient becomes small or the maximum number of ionic steps is reached\n",
    "\n",
    "Line minimization means that the minimum is determined only along the specific search direction, i.e., along a line. It is done using [Brent's method](https://en.wikipedia.org/wiki/Brent%27s_method) with step size [POTIM](https://www.vasp.at/wiki/index.php/POTIM). Note that here *force* and *gradient* are synonyms. The maximum number of ionic steps is set by the [NSW](https://www.vasp.at/wiki/index.php/NSW) tag.\n",
    "The conjugate-gradient algorithm works well for few degrees of freedom ($\\lesssim 4$) and if the initial guess is close to the ground state. Otherwise, you should employ a different method using the [IBRION](https://www.vasp.at/wiki/index.php/IBRION)."
   ]
  },
  {
   "cell_type": "markdown",
   "metadata": {},
   "source": [
    "Read the **stdout** and find out how many ionic and how many electronic steps are performed! Then, check the final structure in the [CONTCAR](https://www.vasp.at/wiki/index.php/CONTCAR) file and read the article about the [CONTCAR](https://www.vasp.at/wiki/index.php/CONTCAR) file on the [VASP Wiki](https://www.vasp.at/wiki/index.php)!\n",
    "\n",
    "You can also check the final structure using py4vasp!"
   ]
  },
  {
   "cell_type": "code",
   "execution_count": null,
   "metadata": {},
   "outputs": [],
   "source": [
    "import py4vasp\n",
    "my_calc = py4vasp.Calculation.from_path(\"./e04_O2-bond\") \n",
    "\n",
    "my_calc.structure.print()"
   ]
  },
  {
   "cell_type": "markdown",
   "metadata": {},
   "source": [
    "#### **4.4 Questions**\n",
    "\n",
    "1. How does the conjugate-gradient method work? When does it fail?  \n",
    "2. What does **POTIM** and **NSW** control?"
   ]
  },
  {
   "cell_type": "markdown",
   "metadata": {},
   "source": [
    "***\n",
    "<a name=\"molecules-e05\"></a>\n",
    "### **5 Bond length of carbon monoxide** <div style=\"float: right\"><a href=#top-molecules-p2>$\\uparrow$</a></div>"
   ]
  },
  {
   "cell_type": "markdown",
   "metadata": {},
   "source": [
    "By the end of this tutorial, you will be able to:\n",
    "- run VASP for multiple atomic species\n",
    "- choosing the appropriate pseudopotential\n",
    "- adjust the step size for the conjugate-gradient algorithm\n",
    "- visualize structures using py4vasp"
   ]
  },
  {
   "cell_type": "markdown",
   "metadata": {},
   "source": [
    "#### **5.1 Task**"
   ]
  },
  {
   "cell_type": "markdown",
   "metadata": {},
   "source": [
    "*Relax the bond length of a CO by means of geometry relaxation using a conjugate-gradient algorithm and visualize the result.*\n",
    "\n",
    "Pseudopotentials are introduced as an approximation to the real Coulomb potential created by the ionic sites which valence electrons observe. This approximation is necessary in practice in order to avoid the stark contrast between diverging Coulomb potentials at the nuclei and the slowly varying Coulomb potential in between ions. The complete potential landscape is constructed based on element specific pseudopotentials. Apart from this dependence on the chemical element, pseudopotentials also differ based on the number of electrons considered to be valence and based on how *hard* or *soft* they are, which are choices you have to make to some degree. \n",
    "\n",
    "Read the article about [available PAW potentials](https://www.vasp.at/wiki/index.php/Available_PAW_potentials) to learn about general recommendations. In which situation should you opt for hard pseudopotentials?"
   ]
  },
  {
   "cell_type": "markdown",
   "metadata": {},
   "source": [
    "<details>\n",
    "<summary> Click to see the answer! </summary>\n",
    "\n",
    "If dimers with short bonds are present in the compound (O$_2$, CO, N$_2$, F$_2$, P$_2$, S$_2$, Cl$_2$), hard pseudopotentials are recommended.\n",
    "\n",
    "</details>"
   ]
  },
  {
   "cell_type": "markdown",
   "metadata": {},
   "source": [
    "#### **5.2 Input**"
   ]
  },
  {
   "cell_type": "markdown",
   "metadata": {},
   "source": [
    "The input files to run this example should be prepared at `$TUTORIALS/molecules-part2/e05_CO-bond`. Check the input files! You will find one file is missing and you will need to generate it as described below. Which file is missing? "
   ]
  },
  {
   "cell_type": "markdown",
   "metadata": {},
   "source": [
    "<details>\n",
    "<summary> Click to see the answer! </summary>\n",
    "\n",
    "The [POTCAR](https://www.vasp.at/wiki/index.php/POTCAR) file.\n",
    "\n",
    "</details>"
   ]
  },
  {
   "cell_type": "markdown",
   "metadata": {},
   "source": [
    "Also, pay attention to the way how two atoms of different species are defined in the [POSCAR](https://www.vasp.at/wiki/index.php/POSCAR) file. Notice how a new mode of selective ionic degrees of freedom is turned on. Do you understand each line of the [POSCAR](https://www.vasp.at/wiki/index.php/POSCAR)? If not, visit the [VASP Wiki](https://www.vasp.at/wiki/index.php/The_VASP_Manual)."
   ]
  },
  {
   "cell_type": "markdown",
   "metadata": {},
   "source": [
    "[POSCAR](https://www.vasp.at/wiki/index.php/POSCAR)\n",
    "***\n",
    "```\n",
    "CO dimer in a box\n",
    " 1.0          ! universal scaling parameters\n",
    " 8.0 0.0 0.0  ! lattice vector  a(1)\n",
    " 0.0 8.0 0.0  ! lattice vector  a(2)\n",
    " 0.0 0.0 8.0  ! lattice vector  a(3)\n",
    "1 1           ! number of atoms for each species\n",
    "sel           ! selective degrees of freedom are changed\n",
    "cart          ! positions in cartesian coordinates\n",
    " 0 0 0       F F T  ! first atom\n",
    " 0 0 1.145   F F T  ! second atom\n",
    "```\n",
    "***\n",
    "[INCAR](https://www.vasp.at/wiki/index.php/INCAR)\n",
    "***\n",
    "```\n",
    " SYSTEM = CO dimer in a box\n",
    " ISMEAR = 0 ! Gaussian smearing\n",
    " NSW = 5    ! 5 ionic steps\n",
    " IBRION = 2 ! use the conjugate gradient algorithm\n",
    "```\n",
    "***\n",
    "[KPOINTS](https://www.vasp.at/wiki/index.php/KPOINTS)\n",
    "***\n",
    "```\n",
    "Gamma-point only\n",
    " 0\n",
    "Monkhorst Pack\n",
    " 1 1 1\n",
    " 0 0 0\n",
    "```\n",
    "***"
   ]
  },
  {
   "cell_type": "markdown",
   "metadata": {},
   "source": [
    "Recall that, the [POTCAR](https://www.vasp.at/wiki/index.php/POTCAR) file contains the pseudopotential, the wavefunctions, the charge densities and other details about the atomic species. This is precomputed information that can be downloaded from the VASP portal, which is only accessible to license holders. However, in this example, you can find the relevant [POTCAR](https://www.vasp.at/wiki/index.php/POTCAR) files at `$TUTORIALS/molecules-part2/e05_CO-bond/pot`. \n",
    "\n",
    "Open the terminal and use `cat` as descibed in the [VASP Wiki](https://www.vasp.at/wiki/index.php) of the [POTCAR](https://www.vasp.at/wiki/index.php/POTCAR) file, in order to create the necessary [POTCAR](https://www.vasp.at/wiki/index.php/POTCAR) file for this example!"
   ]
  },
  {
   "cell_type": "markdown",
   "metadata": {},
   "source": [
    "<details>\n",
    "<summary> Click to get a hint!</summary>\n",
    "\n",
    "In order to account for oxygen and carbon in this example, we need to concatenate the [POTCAR](https://www.vasp.at/wiki/index.php/POTCAR) of oxygen and carbon. Ask yourself: Which pseudopotentials are recommended according to the article [available PAW potentials](https://www.vasp.at/wiki/index.php/Available_PAW_potentials)? Where does the final [POTCAR](https://www.vasp.at/wiki/index.php/POTCAR) file need to be located? Does the order of oxygen and carbon matter in this example?\n",
    "\n",
    "</details>"
   ]
  },
  {
   "cell_type": "markdown",
   "metadata": {},
   "source": [
    "<details>\n",
    "<summary> Click to see the answer!</summary>\n",
    "\n",
    "<br> \n",
    "\n",
    "~~~shell\n",
    "    cd $TUTORIALS/molecules-part2/e05_*\n",
    "    cat pot/C_h/POTCAR pot/O_h/POTCAR > POTCAR\n",
    "~~~\n",
    "<br>\n",
    "\n",
    "Standard pseudopotentials are not a sufficient approximation for compounds featuring dimers with short bonds, so you should use hard pseudopotentials. Hard pseudopotentials have the disadvantage of needing a larger plane wave basis and, thus, are computationally demanding. For low accuracy calculations, such as in this tutorial, we may opt for the less demanding standard pseudopotentials instead.\n",
    "\n",
    "</details>"
   ]
  },
  {
   "cell_type": "markdown",
   "metadata": {},
   "source": [
    "#### **5.3 Calculation**"
   ]
  },
  {
   "cell_type": "markdown",
   "metadata": {},
   "source": [
    "Go ahead and run VASP:\n",
    "~~~shell\n",
    "cd $TUTORIALS/molecules-part2/e05_*\n",
    "mpirun -np 2 vasp_gam\n",
    "~~~\n",
    "The **stdout** will show details about the [conjugate-gradient algorithm](#conjugate-gradient-algorithm). \n",
    "\n",
    "Try running a fresh calculation with a smaller step size in the [conjugate-gradient algorithm](#conjugate-gradient-algorithm)!"
   ]
  },
  {
   "cell_type": "markdown",
   "metadata": {},
   "source": [
    "<details>\n",
    "<summary> Click to get a hint!</summary>\n",
    "\n",
    "In the directory of this example, we remove the [WAVECAR](https://www.vasp.at/wiki/index.php/WAVECAR) file of the previous calculation to start a fresh calculation. Then, [POTIM = 0.2](https://www.vasp.at/wiki/index.php/POTIM) must be added to the [INCAR](https://www.vasp.at/wiki/index.php/INCAR) file, which is smaller than the default value `0.5`. Finally, run VASP.\n",
    "\n",
    "</details>"
   ]
  },
  {
   "cell_type": "markdown",
   "metadata": {},
   "source": [
    "<details>\n",
    "<summary> Click to see how to complete the task!</summary>\n",
    "\n",
    "<br>\n",
    "\n",
    "~~~shell\n",
    "    cd $TUTORIALS/molecules-part2/e05_*\n",
    "    rm WAVECAR\n",
    "    echo \"POTIM = 0.2\" >> INCAR\n",
    "    mpirun -np 2 vasp_gam\n",
    "~~~\n",
    "\n",
    "</details>"
   ]
  },
  {
   "cell_type": "markdown",
   "metadata": {},
   "source": [
    "Vizualize the structure at each step using py4vasp!"
   ]
  },
  {
   "cell_type": "code",
   "execution_count": null,
   "metadata": {},
   "outputs": [],
   "source": [
    "import py4vasp\n",
    "my_calc = py4vasp.Calculation.from_path(\"./e05_CO-bond\")\n",
    "\n",
    "my_calc.structure[:].plot()"
   ]
  },
  {
   "cell_type": "markdown",
   "metadata": {},
   "source": [
    "#### **5.4 Questions**\n",
    "\n",
    "- In which order do you need to concatenate the **POTCAR** files?\n",
    "- Which tag changes the step size in the conjugate-gradient algorithm?\n",
    "- In which situation should you opt for hard pseudopotentials? Why?"
   ]
  },
  {
   "cell_type": "markdown",
   "metadata": {},
   "source": [
    "***\n",
    "<a name=\"molecules-e06\"></a>\n",
    "### **6 Carbon monoxide vibration** <div style=\"float: right\"><a href=#top-molecules-p2>$\\uparrow$</a></div>"
   ]
  },
  {
   "cell_type": "markdown",
   "metadata": {},
   "source": [
    "By the end of this tutorial, you will be able to:\n",
    "\n",
    "- compute vibration frequencies of molecules with VASP\n",
    "- explain how the Hessian matrix and the phonon frequency are connected"
   ]
  },
  {
   "cell_type": "markdown",
   "metadata": {},
   "source": [
    "#### **6.1 Task**"
   ]
  },
  {
   "cell_type": "markdown",
   "metadata": {},
   "source": [
    "*Compute the vibration frequency of a CO molecule using the method of finite differences.*\n",
    "\n",
    "In a real system, the bond length between two atoms is not fixed, but rather oscillates at frequencies ranging from approximately $10-100$ THz. These vibration modes of molecules are computed in the same way as phonons at the $\\Gamma$ point. In principle it is necessary to compute the first and second derivative of the *Born–Oppenheimer energy surface* $E(\\vec{R})$ that is defined by the ionic eigenvalue problem:  \n",
    "$$\\tag{1}\n",
    "\\left( \\sum_{\\mu} \\frac{\\hbar^2}{2 M_{\\mu}} \\nabla_{\\vec{R}_\\mu}^2 + E(\\vec{R}) \\right) \\zeta(\\vec{R}) = \\mathcal{E} \\zeta(\\vec{R}),\n",
    "$$\n",
    "where $\\vec{R}_\\mu$ is the coordinate of the $\\mu$th ion with mass $M_{\\mu}$ and $\\zeta(\\vec{R})$ and $\\mathcal{E}$ are eigenfunctions and eigenvalues of the ionic system.\n",
    "In practice, $E(\\vec{R})$ is the groundstate energy of the electronic system, that parametrically depends on all ionic positions $\\vec{R} = \\left\\{ \\vec{R}_\\mu \\right\\}$. Determining the vibration frequency $\\omega$ then amounts to solving:\n",
    "$$\\tag{2}\n",
    "\\det \\left| \\frac{1}{\\sqrt{ M_\\mu M_\\nu}} \\frac{ \\partial^2 E(\\vec{R}) }{\\partial R_{\\mu i} \\partial R_{\\nu j} } - \\omega^2 \\right| = 0,\n",
    "$$\n",
    "where $\\frac{ \\partial^2 E(\\vec{R}) }{\\partial R_{\\mu i} \\partial R_{\\nu j} }$ is the Hessian with respect to the ionic site $\\mu, \\nu$ and direction $i,j=x, y, z$.\n",
    "\n",
    "Check out this [article about phonons](https://www.vasp.at/wiki/index.php/Phonons_from_finite_differences) on the [VASP Wiki](https://www.vasp.at/wiki/index.php) for more information."
   ]
  },
  {
   "cell_type": "markdown",
   "metadata": {},
   "source": [
    "#### **6.2 Input**"
   ]
  },
  {
   "cell_type": "markdown",
   "metadata": {},
   "source": [
    "The input files to run this example should be prepared at `$TUTORIALS/molecules-part2/e06_CO-vibration`.\n",
    "\n",
    "For the [INCAR](https://www.vasp.at/wiki/index.php/INCAR), check out the meaning of [IBRION = 5](https://www.vasp.at/wiki/index.php/IBRION#IBRION.3D5_and_6:_second_derivatives.2C_Hessian_matrix_and_phonon_frequencies_.28finite_differences.29.), [NFREE](https://www.vasp.at/wiki/index.php/NFREE) and [POTIM](https://www.vasp.at/wiki/index.php/POTIM) in this context. You will learn how the Hessian matrix is computed and its connection to phonons."
   ]
  },
  {
   "cell_type": "markdown",
   "metadata": {},
   "source": [
    "[POSCAR](https://www.vasp.at/wiki/index.php/POSCAR)\n",
    "***\n",
    "```\n",
    "CO dimer in a box\n",
    " 1.0          ! universal scaling parameters\n",
    " 8.0 0.0 0.0  ! lattice vector  a(1)\n",
    " 0.0 8.0 0.0  ! lattice vector  a(2)\n",
    " 0.0 0.0 8.0  ! lattice vector  a(3)\n",
    "1 1           ! number of atoms for each species\n",
    "sel           ! selective degrees of freedom are changed\n",
    "cart          ! positions in cartesian coordinates\n",
    " 0 0 0       F F T  ! first atom\n",
    " 0 0 1.143   F F T  ! second atom\n",
    "```\n",
    "***\n",
    "[INCAR](https://www.vasp.at/wiki/index.php/INCAR)\n",
    "***\n",
    "```\n",
    " SYSTEM = CO dimer in a box\n",
    " ISMEAR = 0   ! Gaussian smearing\n",
    " IBRION = 5   ! use the conjugate gradient algorithm\n",
    " NFREE = 2    ! central differences\n",
    " POTIM = 0.02 ! 0.02 A stepwidth \n",
    " NSW = 1      ! ionic steps > 0\n",
    "```\n",
    "***\n",
    "[KPOINTS](https://www.vasp.at/wiki/index.php/KPOINTS)\n",
    "***\n",
    "```\n",
    "Gamma-point only\n",
    " 0\n",
    "Monkhorst Pack\n",
    " 1 1 1\n",
    " 0 0 0\n",
    "```\n",
    "***\n",
    "[POTCAR](https://www.vasp.at/wiki/index.php/POTCAR)\n",
    "***\n",
    "&emsp;*Hard pseudopotentials of C and O.*\n",
    "***"
   ]
  },
  {
   "cell_type": "markdown",
   "metadata": {},
   "source": [
    "#### **6.3 Calculation**"
   ]
  },
  {
   "cell_type": "markdown",
   "metadata": {},
   "source": [
    "Go ahead and run VASP:\n",
    "~~~shell\n",
    "cd $TUTORIALS/molecules-part2/e06_*\n",
    "mpirun -np 2 vasp_gam\n",
    "~~~"
   ]
  },
  {
   "cell_type": "markdown",
   "metadata": {},
   "source": [
    "Try to find the normal mode of the CO molecule! To this end, open the [OUTCAR](https://www.vasp.at/wiki/index.php/OUTCAR) file, at the end you will find the  dynamical information below\n",
    "```\n",
    "Eigenvectors and eigenvalues of the dynamical matrix\n",
    "----------------------------------------------------\n",
    "```"
   ]
  },
  {
   "cell_type": "markdown",
   "metadata": {},
   "source": [
    "<details>\n",
    "<summary> Click to see the answer! </summary>\n",
    "\n",
    "According to [Mina-Camilde *et al.*, J Chem Educ (1996)](https://doi.org/10.1021/ed073p804)  the experimentally observed stretching vibration of CO has a frequency of 2143 cm$^{-1}$, i.e., 64.25 THz, and, thus, the computed value `63.887522 THz` is quite close to reality.\n",
    "    \n",
    "</details>"
   ]
  },
  {
   "cell_type": "markdown",
   "metadata": {},
   "source": [
    "#### **6.4 Questions**\n",
    "\n",
    "- How is the Hessian matrix defined?\n",
    "- How is the Hessian matrix computed with finite difference?\n",
    "- What does the **POTIM** tag set?\n",
    "- Which tags must be set in order to compute the vibrational frequencies?\n",
    "- In how many units is the vibrational frequency written to the output?\n"
   ]
  },
  {
   "cell_type": "markdown",
   "metadata": {},
   "source": [
    "***\n",
    "<a name=\"molecules-e07\"></a>\n",
    "### **7 Partial density of states of the CO molecule** <div style=\"float: right\"><a href=#top-molecules-p2>$\\uparrow$</a></div>"
   ]
  },
  {
   "cell_type": "markdown",
   "metadata": {},
   "source": [
    "By the end of this tutorial, you will be able to:\n",
    "- plot the density of states (DOS) using py4vasp\n",
    "- explain the difference between the partial DOS, local DOS and the total DOS"
   ]
  },
  {
   "cell_type": "markdown",
   "metadata": {},
   "source": [
    "#### **7.1 Task**"
   ]
  },
  {
   "cell_type": "markdown",
   "metadata": {},
   "source": [
    "*Calculate the partial DOS of a CO molecule.*\n",
    "\n",
    "The [DOS](https://en.wikipedia.org/wiki/Density_of_states) describes the number of electronic states in some energy interval: $N = \\int_{-\\infty}^\\infty  f(\\epsilon) D(\\epsilon)\\, \\text{d}\\epsilon$, where $N$ is the total number of states, $f(\\epsilon)$ is the [Fermi function](https://en.wikipedia.org/wiki/Fermi–Dirac_statistics), $D(\\epsilon)$ is the DOS and $\\epsilon$ is the energy variable. For interacting electrons at finite temperature this corresponds to the spectral function, that can be measured in experiments such as photo-electron spectroscopy (PES). \n",
    "\n",
    "Generally, one can distinguish the *partial DOS*, *local DOS* and the *total DOS*. The partial DOS is the projection onto a specific orbital character. For instance, this could be the partial DOS due to oxygen $2p$ orbitals. The total DOS refers to the entire system. In this example, this is the entire CO molecule. Finally, in a crystal rather than an isolated molecule the electronic wavefunction depends on the wavevector $\\vec{k}$. In that case, also the DOS is $\\vec{k}$-dependent and the local DOS is obtained by integrating over $\\text{d}\\vec{k}$."
   ]
  },
  {
   "cell_type": "markdown",
   "metadata": {},
   "source": [
    "#### **7.2 Input**"
   ]
  },
  {
   "cell_type": "markdown",
   "metadata": {},
   "source": [
    "The input files to run this example should be prepared at `$TUTORIALS/molecules-part2/e07_CO-partial-dos`.\n",
    "Check them out!"
   ]
  },
  {
   "cell_type": "markdown",
   "metadata": {},
   "source": [
    "[POSCAR](https://www.vasp.at/wiki/index.php/POSCAR)\n",
    "***\n",
    "```\n",
    "CO dimer in a box\n",
    " 1.0          ! universal scaling parameters\n",
    " 8.0 0.0 0.0  ! lattice vector  a(1)\n",
    " 0.0 8.0 0.0  ! lattice vector  a(2)\n",
    " 0.0 0.0 8.0  ! lattice vector  a(3)\n",
    "1 1           ! number of atoms for each species\n",
    "sel           ! selective degrees of freedom are changed\n",
    "cart          ! positions in cartesian coordinates\n",
    " 0 0 0       F F T  ! first atom\n",
    " 0 0 1.143   F F T  ! second atom\n",
    "```\n",
    "***\n",
    "[INCAR](https://www.vasp.at/wiki/index.php/INCAR)\n",
    "***\n",
    "```\n",
    " SYSTEM = CO dimer in a box\n",
    " ISMEAR = 0   ! Gaussian smearing\n",
    " LORBIT = 11\n",
    "```\n",
    "***\n",
    "[KPOINTS](https://www.vasp.at/wiki/index.php/KPOINTS)\n",
    "***\n",
    "```\n",
    "Gamma-point only\n",
    " 0\n",
    "Monkhorst Pack\n",
    " 1 1 1\n",
    " 0 0 0\n",
    "```\n",
    "***\n",
    "[POTCAR](https://www.vasp.at/wiki/index.php/POTCAR)\n",
    "***\n",
    "&emsp;*Hard pseudopotentials of C and O.*\n",
    "***"
   ]
  },
  {
   "cell_type": "markdown",
   "metadata": {},
   "source": [
    "In the [INCAR](https://www.vasp.at/wiki/index.php/INCAR) file, [LORBIT = 11](https://www.vasp.at/wiki/index.php/LORBIT) is set. Get familiar with the output generated due to this setting on the [VASP Wiki](https://www.vasp.at/wiki/index.php)! \n",
    "\n",
    "Notice that setting selective degrees of freedom in the [POSCAR](https://www.vasp.at/wiki/index.php/POSCAR) file has no effect on the calculation if you only perform a DFT calculation."
   ]
  },
  {
   "cell_type": "markdown",
   "metadata": {},
   "source": [
    "#### **7.3 Calculation**"
   ]
  },
  {
   "cell_type": "markdown",
   "metadata": {},
   "source": [
    "Go ahead and run VASP:\n",
    "~~~shell\n",
    "cd $TUTORIALS/molecules-part2/e07_*\n",
    "mpirun -np 2 vasp_gam\n",
    "~~~\n",
    "\n",
    "Use py4vasp to plot the DOS as follows. Select the partial DOS by parsing a string to the plot function."
   ]
  },
  {
   "cell_type": "code",
   "execution_count": null,
   "metadata": {},
   "outputs": [],
   "source": [
    "import py4vasp\n",
    "my_calc = py4vasp.Calculation.from_path(\"./e07_CO-partial-dos\") \n",
    "\n",
    "my_calc.dos.plot()"
   ]
  },
  {
   "cell_type": "code",
   "execution_count": null,
   "metadata": {},
   "outputs": [],
   "source": [
    "# plot the partial DOS\n",
    "my_calc.dos.plot(\"p\")"
   ]
  },
  {
   "cell_type": "markdown",
   "metadata": {},
   "source": [
    "#### **7.4 Questions**\n",
    "\n",
    "- What output is generated by seeting **LORBIT = 11**? \n",
    "- How can you plot the partial DOS?"
   ]
  },
  {
   "cell_type": "markdown",
   "metadata": {},
   "source": [
    "***\n",
    "### **Great job! You have finished part 2!**\n",
    "\n",
    "[Go to top $\\uparrow$](#top-molecules-p2)"
   ]
  }
 ],
 "metadata": {
  "kernelspec": {
   "display_name": "Python 3 (ipykernel)",
   "language": "python",
   "name": "python3"
  },
  "language_info": {
   "codemirror_mode": {
    "name": "ipython",
    "version": 3
   },
   "file_extension": ".py",
   "mimetype": "text/x-python",
   "name": "python",
   "nbconvert_exporter": "python",
   "pygments_lexer": "ipython3",
   "version": "3.10.6"
  },
  "widgets": {
   "application/vnd.jupyter.widget-state+json": {
    "state": {},
    "version_major": 2,
    "version_minor": 0
   }
  }
 },
 "nbformat": 4,
 "nbformat_minor": 4
}

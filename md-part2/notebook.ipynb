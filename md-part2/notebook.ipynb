{
 "cells": [
  {
   "cell_type": "markdown",
   "metadata": {},
   "source": [
    "<a name=\"top-MD-p2\"></a>\n",
    "# **Part 2: Machine learning force fields**"
   ]
  },
  {
   "cell_type": "markdown",
   "metadata": {},
   "source": [
    "<div class=\"download tutorial\" style=\"float: right\">\n",
    "    <a href=\"https://www.vasp.at/tutorials/latest/md-part2.zip\" download=\"md-part2.zip\"> \n",
    "        <button class=\"btn btn-primary\"> <i class=\"fa fa-download\"></i> Download this tutorials</button>\n",
    "    </a> \n",
    "</div>\n",
    "\n",
    "#### Content\n",
    "&emsp;[4 Machine learning force fields](#MD-e04)  \n",
    "&emsp;[5 Testing force fields with ionic relaxation](#MD-e05)  \n",
    "&emsp;[6 Lattice constant and cell volume as ensemble averages](#MD-e06)  \n",
    "&emsp;[7 Transferability of machine-learned force fields and the thermal expansion coefficient](#MD-e07)   "
   ]
  },
  {
   "cell_type": "markdown",
   "metadata": {},
   "source": [
    "***\n",
    "<a name=\"MD-e04\"></a>\n",
    "### **4 Machine learning force fields** <div style=\"float: right\"><a href=#top-MD-p2>$\\uparrow$</a></div>"
   ]
  },
  {
   "cell_type": "markdown",
   "metadata": {},
   "source": [
    "By the end of this tutorial, you will be able to:\n",
    "- train a force field on-the-fly during an *ab-initio* MD simulation"
   ]
  },
  {
   "cell_type": "markdown",
   "metadata": {},
   "source": [
    "#### **4.1 Task**"
   ]
  },
  {
   "cell_type": "markdown",
   "metadata": {},
   "source": [
    "*Train a force field on-the-fly during an ab-initio MD simulation of 16 silicon atoms in an NpT ensemble using the Langevin thermostat.*\n",
    "\n",
    "It takes a lot of computational effort to perform *ab-initio* MD simulations. The problem is that for a good thermodynamic average, the ensemble needs to be well-sampled. In other words, the *simulation time* needs to be long.  At the same time, each *ab-initio* MD step is computationally expensive, because the electrons are treated fully quantum mechanically within density-functional theory (DFT). In Example 3 of part 1, you saw that this results in a very time-consuming calculation.\n",
    "\n",
    "Fully classical MD calculations use [force fields](https://en.wikipedia.org/wiki/Force_field_(chemistry)) to evaluate the force acting on each atom instead of DFT. These are interatomic potentials, that are often based on experimental observation and the empirical inclusion of known forces, such as the van-der-Waals force, electrostatic charges, etc. Their quality depends on how well interactions in this system are known. This allows each MD step to become cheap and sufficiently long simulation time becomes feasible. \n",
    "\n",
    "[Machine learning force fields](https://www.vasp.at/wiki/index.php/Machine_learning_force_field:_Theory) from *ab-initio* MD lets you capture the underlying physics from first principles, where electrons are treated quantum mechanically, and still reach long simulation times relatively cheaply. To learn more about on-the-fly machine learning read about the [theory of on-the-fly machine learning force filed](https://www.vasp.at/wiki/index.php/Machine_learning_force_field:_Theory) or about the [setup of a basic calculation](https://www.vasp.at/wiki/index.php/Machine_learning_force_field_calculations:_Basics) on the [VASP Wiki](https://www.vasp.at/wiki/index.php)!"
   ]
  },
  {
   "cell_type": "markdown",
   "metadata": {},
   "source": [
    "#### **4.2 Input**"
   ]
  },
  {
   "cell_type": "markdown",
   "metadata": {},
   "source": [
    "The input files to run this example are prepared at `$TUTORIALS/md-part2/e04_MLFF`."
   ]
  },
  {
   "cell_type": "markdown",
   "metadata": {},
   "source": [
    "[POSCAR](https://www.vasp.at/wiki/index.php/POSCAR)\n",
    "***\n",
    "```\n",
    "Si16\n",
    "1.0\n",
    "-5.468728 -5.468728 0.000000\n",
    "-5.468728 0.000000 -5.468728\n",
    "-0.000000 -5.468728 -5.468728\n",
    "Si\n",
    "16\n",
    "direct\n",
    "0.125000 0.125000 0.125000 Si\n",
    "0.125000 0.125000 0.625000 Si\n",
    "0.125000 0.625000 0.125000 Si\n",
    "0.125000 0.625000 0.625000 Si\n",
    "0.625000 0.125000 0.125000 Si\n",
    "0.625000 0.125000 0.625000 Si\n",
    "0.625000 0.625000 0.125000 Si\n",
    "0.625000 0.625000 0.625000 Si\n",
    "0.250000 0.250000 0.250000 Si\n",
    "0.250000 0.250000 0.750000 Si\n",
    "0.250000 0.750000 0.250000 Si\n",
    "0.250000 0.750000 0.750000 Si\n",
    "0.750000 0.250000 0.250000 Si\n",
    "0.750000 0.250000 0.750000 Si\n",
    "0.750000 0.750000 0.250000 Si\n",
    "0.750000 0.750000 0.750000 Si\n",
    "```\n",
    "***\n",
    "[INCAR](https://www.vasp.at/wiki/index.php/INCAR)\n",
    "***\n",
    "```\n",
    "SYSTEM = Si16\n",
    "ISYM   = 0        ! no symmetry imposed\n",
    "\n",
    "! ab initio\n",
    "PREC   = Normal\n",
    "IVDW   = 10\n",
    "\n",
    "ISMEAR = -1      ! Fermi smearing\n",
    "SIGMA  = 0.0258  ! smearing in eV\n",
    "\n",
    "ENCUT  = 300\n",
    "EDIFF  = 1e-6\n",
    "\n",
    "LWAVE  = F\n",
    "LCHARG = F\n",
    "\n",
    "LREAL  = F\n",
    "\n",
    "! MD\n",
    "IBRION = 0        ! MD (treat ionic dgr of freedom)\n",
    "NSW    = 10000    ! no of ionic steps\n",
    "POTIM  = 2.0      ! MD time step in fs\n",
    "\n",
    "MDALGO = 3                ! Langevin thermostat\n",
    "LANGEVIN_GAMMA   = 1      ! friction\n",
    "LANGEVIN_GAMMA_L = 10     ! lattice friction\n",
    "PMASS  = 10               ! lattice mass\n",
    "TEBEG  = 400              ! temperature\n",
    "\n",
    "ISIF   = 3        ! update positions, cell shape and volume \n",
    "\n",
    "! machine learning\n",
    "ML_LMLFF  = T\n",
    "ML_ISTART = 0\n",
    "ML_WTSIF  = 2\n",
    "\n",
    "RANDOM_SEED =         688344966                0                0\n",
    "```\n",
    "***\n",
    "[ICONST](https://www.vasp.at/wiki/index.php/ICONST)\n",
    "***\n",
    "```\n",
    "LR 1 7\n",
    "LR 2 7\n",
    "LR 3 7\n",
    "LA 2 3 7\n",
    "LA 1 3 7\n",
    "LA 1 2 7\n",
    "LV 7\n",
    "```\n",
    "***\n",
    "[KPOINTS](https://www.vasp.at/wiki/index.php/KPOINTS)\n",
    "***\n",
    "```\n",
    "Not only Gamma point\n",
    " 0\n",
    "Gamma\n",
    " 2 2 2\n",
    " 0 0 0\n",
    "```\n",
    "***\n",
    "[POTCAR](https://www.vasp.at/wiki/index.php/POTCAR)\n",
    "***\n",
    "&emsp;*Pseudopotentials of Si.*\n",
    "***"
   ]
  },
  {
   "cell_type": "markdown",
   "metadata": {},
   "source": [
    "Check the meaning of the tags regarding the DFT calculation and the MD simulation set in the [INCAR](https://www.vasp.at/wiki/index.php/INCAR) file! The [ML_LMLFF](https://www.vasp.at/wiki/index.php/ML_LMLFF) tag switches on the use of the machine-learning-force-fields method. Then, [ML_ISTART](https://www.vasp.at/wiki/index.php/ML_ISTART)=0 selects the mode in which a new force field is trained from ab-initio MD. \n",
    "\n",
    "The [RANDOM_SEED](https://www.vasp.at/wiki/index.php/RANDOM_SEED) tag ensures reproducibility of this example. In practice, an MD simulation should be long enough to be competely independent of the random seed. However, this example is designed to be as short as possible and the number of encountered local reference configurations of atoms that is learned when training the force fields strongly depends on the the random seed. The number of encountered local reference configurations affects the simulation time, as well as the performance of the force fields.\n",
    "\n",
    "Recall the meaning of the settigs in the [ICONST](https://www.vasp.at/wiki/index.php/ICONST) file, that where discussed in Example 3 of part 1!\n",
    "\n",
    "The [KPOINTS](https://www.vasp.at/wiki/index.php/KPOINTS) file defines a uniform $\\vec{k}$ mesh. It is generally possible to train force fields on a smaller unit cell and then apply it to a larger system. However, it is important to learn the correct forces. This requires to converge the forces with respect to the number of $\\vec{k}$ points. The transferability of a force field to a different system is discussed in [Example 5](#MD-e05)."
   ]
  },
  {
   "cell_type": "markdown",
   "metadata": {},
   "source": [
    "#### **4.3 Calculation**"
   ]
  },
  {
   "cell_type": "markdown",
   "metadata": {},
   "source": [
    "Open a terminal, navigate to this example's directory and run VASP by entering the following:\n",
    "```shell\n",
    "cd $TUTORIALS/md-part2/e04_*\n",
    "mpirun -np 4 vasp_std\n",
    "```\n",
    "\n",
    "At which temperature is the training done?"
   ]
  },
  {
   "cell_type": "markdown",
   "metadata": {},
   "source": [
    "<details>\n",
    "<summary> Click to see the answer! </summary>\n",
    "\n",
    "At 400K as set by the [TEBEG](https://www.vasp.at/wiki/index.php/TEBEG) tag in the [INCAR](https://www.vasp.at/wiki/index.php/INCAR) file.\n",
    "    \n",
    "</details>"
   ]
  },
  {
   "cell_type": "markdown",
   "metadata": {},
   "source": [
    "To let VASP read the force field as an input file, you can copy [ML_FFN](https://www.vasp.at/wiki/index.php/ML_FFN) to [ML_FF](https://www.vasp.at/wiki/index.php/ML_FF). Then, to restart learning or use the force field to run an MD simulation [ML_ISTART](https://www.vasp.at/wiki/index.php/ML_ISTART) must be set appropriately. We will use this force field in [Example 5](#MD-e05) to [8](#MD-e08).\n",
    "\n",
    "The main logfile for the machine-learning-force-fields method is the [ML_LOGFILE](https://www.vasp.at/wiki/index.php/ML_LOGFILE) file. Read about it on the [VASP Wiki](https://www.vasp.at/wiki/index.php) and check the [ML_LOGFILE](https://www.vasp.at/wiki/index.php/ML_LOGFILE) file of this calculation!\n",
    "\n",
    "The *in-sample error* is the average error in the training set. The *out-of-sample error*, on the other hand, is the average error that occurs when considering a random new configuration of the same ensemble. For a well-trained force field, the out-of-sample error should be minimal. The Bayesian error is an estimate of the out-of-sample error and indicates the progress of training the force fields. \n",
    "\n",
    "Plot the Bayesian error and in-sample error of the forces using the following code!"
   ]
  },
  {
   "cell_type": "code",
   "execution_count": null,
   "metadata": {},
   "outputs": [],
   "source": [
    "! cat ./e04_MLFF/ML_LOGFILE | grep BEEF > ./e04_MLFF/BEEF.dat\n",
    "\n",
    "import numpy as np\n",
    "import plotly.express as px\n",
    "import pandas as pd\n",
    "\n",
    "t1, beef = np.loadtxt(\"./e04_MLFF/BEEF.dat\", \n",
    "                      usecols=[1,3], unpack=True)\n",
    "\n",
    "df1 = pd.DataFrame({\"Time step\": t1, \"Bayesian error\": beef}) \n",
    "\n",
    "px.line(df1,\n",
    "        x=\"Time step\",\n",
    "        y=\"Bayesian error\",\n",
    "        title=\"Bayesian error estimate of forces (max) (eV Angst^-1)\")"
   ]
  },
  {
   "cell_type": "code",
   "execution_count": null,
   "metadata": {},
   "outputs": [],
   "source": [
    "! cat ./e04_MLFF/ML_LOGFILE | grep ERR > ./e04_MLFF/ERR.dat\n",
    "\n",
    "import numpy as np\n",
    "import plotly.express as px\n",
    "import pandas as pd\n",
    "\n",
    "t2, inerr = np.loadtxt(\"./e04_MLFF/ERR.dat\", \n",
    "                       usecols=[1,2], unpack=True)\n",
    "\n",
    "df2 = pd.DataFrame({\"Time step\": t2, \"RMSE\": inerr})\n",
    "\n",
    "px.line(df2,\n",
    "        x=\"Time step\",\n",
    "        y=\"RMSE\",\n",
    "        title=\"Root mean squared error of forces (eV Angst^-1)\")"
   ]
  },
  {
   "cell_type": "markdown",
   "metadata": {},
   "source": [
    "If you see big spikes in the Bayesian error, the force field encounters a local configuration of atoms that is far away from what VASP has learned so far. Therefore, the predicted forces are expected to be bad estimates for the ab-initio reference result. \n",
    "\n",
    "While training the force field, VASP learns new local reference configurations from a structure that occurs during the MD simulation, if one of the following conditions is met:\n",
    "1. If there is no force field present, the local reference configurations of a structure are added to the training set and a force field is constructed.\n",
    "2. At any MD step, if the Bayesian error of the force for any atom is above the strict threshold set by [ML_CDOUB](https://www.vasp.at/wiki/index.php/ML_CDOUB) $\\times$ [ML_CTIFOR](https://www.vasp.at/wiki/index.php/ML_CTIFOR), the local reference configurations of a structure are added to the training set and a force field is constructed.\n",
    "3. After a force field was constructed, VASP enters a warmup phase over a number of MD steps set by [ML_NMDINT](https://www.vasp.at/wiki/index.php/ML_NMDINT) during which VASP is rather lenient toward the Bayesian error of the force. After the warmup phase, if the Bayesian error of the force for any atom is above a low threshold set by [ML_CTIFOR](https://www.vasp.at/wiki/index.php/ML_CTIFOR), the structure is added to a list of pending structures. The new local reference configurations are added to the training set after the list of pending structures reaches the length that is set by the value of the [ML_MCONF_NEW](https://www.vasp.at/wiki/index.php/ML_MCONF_NEW) tag."
   ]
  },
  {
   "cell_type": "markdown",
   "metadata": {},
   "source": [
    "Mind that the Bayesian error is not a true indicator of the quality of your force fields. This is because it is merely an estimate for out-of-sample error."
   ]
  },
  {
   "cell_type": "markdown",
   "metadata": {},
   "source": [
    "#### **4.4 Questions**\n",
    "\n",
    "1. Where are the final force-field parameters stored?\n",
    "2. When does VASP add local reference configurations to the training set of the force field? \n",
    "3. Is the force field always immediatly retrained when the training set is extended?\n",
    "4. Is the Bayesian error an estimate of the quality of your force fields?"
   ]
  },
  {
   "cell_type": "markdown",
   "metadata": {},
   "source": [
    "***\n",
    "<a name=\"MD-e05\"></a>\n",
    "### **5 Testing force fields with ionic relaxation**  <div style=\"float: right\"><a href=#top-MD-p2>$\\uparrow$</a></div>"
   ]
  },
  {
   "cell_type": "markdown",
   "metadata": {},
   "source": [
    "By the end of this tutorial, you will be able to:\n",
    "- test a force field by comparison of the relaxed lattice parameters and reference data\n",
    "- use the conjugate-gradient algorithm with force fields"
   ]
  },
  {
   "cell_type": "markdown",
   "metadata": {},
   "source": [
    "#### **5.1 Task**"
   ]
  },
  {
   "cell_type": "markdown",
   "metadata": {},
   "source": [
    "*Compute the energy versus volume curve in a series of static single-point calculations of 16 silicon atoms employing machine-learned force fields trained in the previouse example and compare the result with density-functional theory (DFT).*\n",
    "\n",
    "In machine learning, one aims to minimize the out-of-sample error, i.e., the error that occurs when considering data outside the training set. However, while training we only consider the training data, and thus only compute the in-sample error. This is the average error in the training set. \n",
    "\n",
    "The Bayesian error is an *estimate* of the out-of-sample error, that serves as a guide when training the force fields. Nevertheless, the Bayesian error is not a true measure of the quality of a force fields, contrary to the out-of-sample error. In order to implement a test of the force fields computed in [Example 4](#MD-e04), you can follow one, or both, of these strategies:\n",
    "* Set up an independent test set of random configurations. Then, check the average errors comparing forces, stresses and energy differences of two structures based on DFT and predicted by machine-learned force fields.\n",
    "* If you have both, *ab-initio* reference data and a calculation using force fields, check the agreement of some physical properties. For instance, you might check the relaxed lattice parameters, phonons, relative energies of different phases, the elastic constant, the formation of defects etc.  \n",
    "\n",
    "In this example, we will use the latter strategy and relax the lattice parameters!"
   ]
  },
  {
   "cell_type": "markdown",
   "metadata": {},
   "source": [
    "#### **5.2 Input**"
   ]
  },
  {
   "cell_type": "markdown",
   "metadata": {},
   "source": [
    "The input files to run this example are prepared at `$TUTORIALS/md-part2/e05_ionic-relaxation-FF`. Additionally, you need the [ML_FFN](https://www.vasp.at/wiki/index.php/ML_FFN) file from [Example 4](#MD-e04)."
   ]
  },
  {
   "cell_type": "markdown",
   "metadata": {},
   "source": [
    "[POSCAR](https://www.vasp.at/wiki/index.php/POSCAR).ref\n",
    "***\n",
    "```\n",
    "Si16\n",
    "a\n",
    "-5.468728 -5.468728 0.000000\n",
    "-5.468728 0.000000 -5.468728\n",
    "-0.000000 -5.468728 -5.468728\n",
    "Si\n",
    "16\n",
    "direct\n",
    "0.125000 0.125000 0.125000 Si\n",
    "0.125000 0.125000 0.625000 Si\n",
    "0.125000 0.625000 0.125000 Si\n",
    "0.125000 0.625000 0.625000 Si\n",
    "0.625000 0.125000 0.125000 Si\n",
    "0.625000 0.125000 0.625000 Si\n",
    "0.625000 0.625000 0.125000 Si\n",
    "0.625000 0.625000 0.625000 Si\n",
    "0.250000 0.250000 0.250000 Si\n",
    "0.250000 0.250000 0.750000 Si\n",
    "0.250000 0.750000 0.250000 Si\n",
    "0.250000 0.750000 0.750000 Si\n",
    "0.750000 0.250000 0.250000 Si\n",
    "0.750000 0.250000 0.750000 Si\n",
    "0.750000 0.750000 0.250000 Si\n",
    "0.750000 0.750000 0.750000 Si\n",
    "```\n",
    "***\n",
    "[INCAR](https://www.vasp.at/wiki/index.php/INCAR)\n",
    "***\n",
    "```\n",
    "SYSTEM = Si16\n",
    "\n",
    "! ionic relaxation\n",
    "IBRION = 2        ! ionic relaxation (conjugate gradient algorithm)\n",
    "NSW    = 1        ! no of ionic steps\n",
    "ISIF   = 3        ! update positions, cell shape and volume \n",
    "\n",
    "! machine learning\n",
    "ML_LMLFF  = T\n",
    "ML_ISTART = 2\n",
    "\n",
    "RANDOM_SEED =         688344966                0                0\n",
    "```\n",
    "***\n",
    "[KPOINTS](https://www.vasp.at/wiki/index.php/KPOINTS)\n",
    "***\n",
    "```\n",
    "Not only Gamma point\n",
    " 0\n",
    "Gamma\n",
    " 2 2 2\n",
    " 0 0 0\n",
    "```\n",
    "***\n",
    "[POTCAR](https://www.vasp.at/wiki/index.php/POTCAR)\n",
    "***\n",
    "&emsp;*Pseudopotentials of Si.*\n",
    "***"
   ]
  },
  {
   "cell_type": "markdown",
   "metadata": {},
   "source": [
    "The [INCAR](https://www.vasp.at/wiki/index.php/INCAR) file now defines an ionic relaxation. Check out the meaning of the tags!"
   ]
  },
  {
   "cell_type": "markdown",
   "metadata": {},
   "source": [
    "#### **5.3 Calculation**"
   ]
  },
  {
   "cell_type": "markdown",
   "metadata": {},
   "source": [
    "Open a terminal, navigate to this example's directory and run VASP by entering the following:\n",
    "```shell\n",
    "cd $TUTORIALS/md-part2/e05_*\n",
    "bash run\n",
    "```\n",
    "\n",
    "Here, **run** contains the following script:\n",
    "***\n",
    "```shell\n",
    "#!/bin/bash\n",
    "\n",
    "drct=$(pwd)\n",
    "\n",
    "for i in 0.960 0.965 0.970 0.975 0.980 0.985 0.990 0.995 1.000 1.005 1.010 1.020 1.030\n",
    "do\n",
    "  cd $drct\n",
    "  if ! test -d $i\n",
    "  then\n",
    "    mkdir $i\n",
    "    cp POTCAR INCAR KPOINTS $i\n",
    "    cd $i\n",
    "    ln -s ../../e04_MLFF/ML_FFN ML_FF\n",
    "    awk '{a=$0;if (NR==2) {a=\"'${i}'\"};print a}' ${drct}/POSCAR.ref > POSCAR\n",
    "    mpirun -np 2 vasp_std > stdout\n",
    "    cat OUTCAR | grep \"Total CPU time used\"\n",
    "  fi\n",
    "done\n",
    "```\n",
    "***"
   ]
  },
  {
   "cell_type": "markdown",
   "metadata": {},
   "source": [
    "After running above script, you can extract the volume and energy of each calculation with the **volume_energy_MLFF.sh** file. That reads:\n",
    "\n",
    "***\n",
    "```shell\n",
    "#!/bin/bash\n",
    "\n",
    "for i in 0.960 0.965 0.970 0.975 0.980 0.985 0.990 0.995 1.000 1.005 1.010 1.020 1.030\n",
    "do\n",
    "  if test -d $i\n",
    "  then\n",
    "    vol=$(grep vol $i/OUTCAR|tail -1|awk '{print $5}')\n",
    "    ene=$(grep 'free  ene' $i/OUTCAR |tail -1 |awk '{print $6}')\n",
    "    echo $vol $ene\n",
    "  fi\n",
    "done\n",
    "```\n",
    "***\n",
    "\n",
    "Enter the following into the terminal:\n",
    "\n",
    "```shell\n",
    "bash volume_energy_MLFF.sh > volume_energy_MLFF.dat\n",
    "```\n",
    "\n",
    "Compare the total energy vs. volume plot of the calculation using the machine-learned force field (MLFF) with reference data from density-functional theory (DFT). The DFT setup should be the same as during the training of the MLFF."
   ]
  },
  {
   "cell_type": "code",
   "execution_count": null,
   "metadata": {},
   "outputs": [],
   "source": [
    "import numpy as np\n",
    "import plotly.express as px\n",
    "import pandas as pd\n",
    "\n",
    "volume_dft, energy_dft = np.loadtxt(\"./e05_ionic-relaxation-FF/volume_energy_DFT.dat\", unpack=True)\n",
    "volume_mlff, energy_mlff = np.loadtxt(\"./e05_ionic-relaxation-FF/volume_energy_MLFF.dat\", unpack=True)\n",
    "\n",
    "df = pd.DataFrame({\"DFT\": energy_dft, \"Volume (Angst^3)\": volume_dft})\n",
    "\n",
    "fig = px.line(df, x=\"Volume (Angst^3)\", y=[\"DFT\"]) \n",
    "fig.data[0].name=\"DFT\"\n",
    "fig.add_scatter(x=volume_mlff, y=energy_mlff, name=\"MLFF\") \n",
    "fig.update_yaxes(title=dict(text=\"Total energy (eV)\"))\n",
    "fig.show()"
   ]
  },
  {
   "cell_type": "markdown",
   "metadata": {
    "tags": []
   },
   "source": [
    "You can see that the MLFF result closely resembles the reference DFT data!"
   ]
  },
  {
   "cell_type": "markdown",
   "metadata": {},
   "source": [
    "#### **5.4 Questions**\n",
    "1. What are possible ways to judge the quality of a machine-learned force field?\n",
    "2. Can you compute ground-state properties, such as phonons and optimal structure, based on force fields?\n",
    "3. What does the **ML_ISTART** tag control?"
   ]
  },
  {
   "cell_type": "markdown",
   "metadata": {},
   "source": [
    "***\n",
    "<a name=\"MD-e06\"></a>\n",
    "### **6 Lattice constant and cell volume as ensemble averages**  <div style=\"float: right\"><a href=#top-MD-p2>$\\uparrow$</a></div>"
   ]
  },
  {
   "cell_type": "markdown",
   "metadata": {},
   "source": [
    "By the end of this tutorial, you will be able to:\n",
    "- compute the lattice constant and cell volume as an ensemble average\n",
    "- run a molecular-dynamics simulation using a pretrained force field"
   ]
  },
  {
   "cell_type": "markdown",
   "metadata": {},
   "source": [
    "#### **6.1 Task**"
   ]
  },
  {
   "cell_type": "markdown",
   "metadata": {},
   "source": [
    "*Determine the lattice constant and cell volume of 16 silicon atoms in an NpT ensemble using the Langevin thermostat as ensemble average at 400K using a machine-learned force field.*\n",
    "\n",
    "Often the lattice constant and cell volume is merely thought of as groundstate property at T=0K. However, many materials undergo structural transitions with increasing temperature. What's more, the lattice parameters are actually measured as thermodynamic ensemble averages in the experiment. Here, we use a machine-learned force field trained in [Example 4](#MD-e04) to compute the lattice constant and cell volume as observables within statistical mechanics. This production run is performed at the same temperature as the force field was trained at, i.e., T=400K."
   ]
  },
  {
   "cell_type": "markdown",
   "metadata": {},
   "source": [
    "#### **6.2 Input**"
   ]
  },
  {
   "cell_type": "markdown",
   "metadata": {},
   "source": [
    "The input files to run this example are prepared at `$TUTORIALS/md-part2/e06_avg-cell`."
   ]
  },
  {
   "cell_type": "markdown",
   "metadata": {},
   "source": [
    "[POSCAR](https://www.vasp.at/wiki/index.php/POSCAR).init\n",
    "***\n",
    "\n",
    "```\n",
    "Si16                                    \n",
    "   1.00000000000000     \n",
    "    -5.4410600650869547   -5.3339779479305012    0.1752254901941238\n",
    "    -5.4585301720050303   -0.0426114552144014   -5.5011416272222569\n",
    "    -0.0000000000037158   -5.4450646659516400   -5.4450646659577338\n",
    "   Si\n",
    "    16\n",
    "Direct\n",
    "  0.6606154536874529  0.2360956581129705 -0.2474775054180872\n",
    "  0.7075252012766495  0.2379457061732651  0.2086655902510348\n",
    "  0.6963128662213559  0.7466167944965936 -0.2913145409529478\n",
    "  0.6974880993434950  0.7460515056246327  0.2088172665279352\n",
    "  1.1825342136287298  0.2279029889453776 -0.2666262935775867\n",
    "  1.2094348117464806  0.2296777632936230  0.2330360246353964\n",
    "  1.1913740517883369  0.7311960698941351 -0.2640940732241309\n",
    "  1.2111725573442249  0.7258180374195849  0.2397123834460610\n",
    "  0.8204426107933490  0.3786297598112641 -0.1651160077506055\n",
    "  0.8114269275595126  0.3605967577708740  0.3736921190107417\n",
    "  0.8248448291211715  0.8736262838316809 -0.1577699578548004\n",
    "  0.8202199056893463  0.8469021883348976  0.3549367662333182\n",
    "  1.2930575309281587  0.3731874717531389 -0.1622066433098448\n",
    "  1.3514478817568132  0.3448603541096532  0.3533560561469962\n",
    "  1.3327924182388688  0.8452729451507155 -0.1452804913695126\n",
    "  1.3280714615737168  0.8606829463092985  0.3440969476919519\n",
    "```\n",
    "***\n",
    "[INCAR](https://www.vasp.at/wiki/index.php/INCAR).init\n",
    "***\n",
    "```\n",
    "SYSTEM = Si16\n",
    "ISYM   = 0        ! no symmetry imposed\n",
    "\n",
    "! MD\n",
    "IBRION = 0        ! MD (treat ionic dgr of freedom)\n",
    "NSW    = 10000    ! no of ionic steps\n",
    "POTIM  = 2.0      ! MD time step in fs\n",
    "\n",
    "MDALGO = 3                ! Langevin thermostat\n",
    "LANGEVIN_GAMMA   = 1      ! friction\n",
    "LANGEVIN_GAMMA_L = 10     ! lattice friction\n",
    "PMASS  = 10               ! lattice mass\n",
    "TEBEG  = 400              ! temperature\n",
    "\n",
    "ISIF   = 3        ! update positions, cell shape and volume \n",
    "\n",
    "! machine learning\n",
    "ML_LMLFF  = T\n",
    "ML_ISTART = 2\n",
    "```\n",
    "***\n",
    "[ICONST](https://www.vasp.at/wiki/index.php/ICONST)\n",
    "***\n",
    "```\n",
    "LR 1 7\n",
    "LR 2 7\n",
    "LR 3 7\n",
    "LA 2 3 7\n",
    "LA 1 3 7\n",
    "LA 1 2 7\n",
    "LV 7\n",
    "```\n",
    "***\n",
    "[KPOINTS](https://www.vasp.at/wiki/index.php/KPOINTS)\n",
    "***\n",
    "```\n",
    "Gamma point\n",
    " 0\n",
    "Gamma\n",
    " 1 1 1\n",
    " 0 0 0\n",
    "```\n",
    "***\n",
    "[POTCAR](https://www.vasp.at/wiki/index.php/POTCAR)\n",
    "***\n",
    "&emsp;*Pseudopotentials of Si.*\n",
    "***"
   ]
  },
  {
   "cell_type": "markdown",
   "metadata": {},
   "source": [
    "The [INCAR](https://www.vasp.at/wiki/index.php/INCAR) file has no tags concerning ab-initio calculations. Instead, it defines the MD simulation and switches on the use of machine-learned force fields. Check out the meaning of the tags!\n",
    "\n",
    "The [POSCAR](https://www.vasp.at/wiki/index.php/POSCAR) file is a thermalized Si crystal at 400K."
   ]
  },
  {
   "cell_type": "markdown",
   "metadata": {},
   "source": [
    "#### **6.3 Calculation**"
   ]
  },
  {
   "cell_type": "markdown",
   "metadata": {},
   "source": [
    "Open a terminal, navigate to this example's directory and run VASP by entering the following:\n",
    "```shell\n",
    "cd $TUTORIALS/md-part2/e06_*\n",
    "ln -s $TUTORIALS/md-part2/e04_MLFF/ML_FFN ML_FF\n",
    "bash run\n",
    "```\n",
    "\n",
    "The **run** script reads:\n",
    "```bash\n",
    "#!/bin/bash\n",
    "\n",
    "cp POSCAR.init POSCAR\n",
    "cp INCAR.init INCAR\n",
    "rseed=\"RANDOM_SEED =         311137787                0                0\"\n",
    "echo $rseed >> INCAR\n",
    "\n",
    "i=1\n",
    "while [ $i -le 3 ] \n",
    "do\n",
    "  # start vasp\n",
    "  mpirun -np 2 vasp_gam > stdout\n",
    "  cat OUTCAR | grep \"Total CPU time used\"\n",
    "\n",
    "  rseed=$(grep RANDOM_SEED REPORT |tail -1)\n",
    "  cp INCAR.init INCAR\n",
    "  echo $rseed >> INCAR\n",
    "\n",
    "  # use the last configuration generated in the previous\n",
    "  # run as initial configuration for the next run\n",
    "  cp CONTCAR POSCAR\n",
    "\n",
    "  # backup some important files\n",
    "  mkdir run$i\n",
    "  cp REPORT vasprun.xml vaspout.h5 run$i\n",
    "\n",
    "  let i=i+1\n",
    "done\n",
    "```"
   ]
  },
  {
   "cell_type": "markdown",
   "metadata": {},
   "source": [
    "Open the [OUTCAR](https://www.vasp.at/wiki/index.php/OUTCAR) file that corresponds to the last 10000 steps. Check how much time has elapsed and compare that to the time you estimated that the same simulation would take employing ab-initio MD in [Example 3](#MD-e03)! "
   ]
  },
  {
   "cell_type": "markdown",
   "metadata": {},
   "source": [
    "<details>\n",
    "<summary> Click to see the answer! </summary>\n",
    "\n",
    "More than 20h compared to less than 10min.\n",
    "\n",
    "</details>"
   ]
  },
  {
   "cell_type": "markdown",
   "metadata": {},
   "source": [
    "Next, open the [REPORT](https://www.vasp.at/wiki/index.php/REPORT) file and find the monitored geometric coordinates at each MD step! Use **get_lattice_parameters.sh** to extract them and take the average over the simulation time!\n",
    "\n",
    "***\n",
    "```bash\n",
    "#!/bin/bash\n",
    "\n",
    "if test -f lv.dat\n",
    "then\n",
    "  rm lv.dat\n",
    "  rm lr1.dat lr2.dat lr3.dat lr.dat\n",
    "fi\n",
    "\n",
    "step=1\n",
    "\n",
    "while [ $step -le 3 ]\n",
    "do\n",
    "  if test -f run$step/REPORT\n",
    "  then\n",
    "    grep LV run$step/REPORT |awk '{print $3}' >> lv.dat\n",
    "    grep LR run$step/REPORT |awk '{if (NR%3==1) {print $3}}' >> lr1.dat\n",
    "    grep LR run$step/REPORT |awk '{if (NR%3==2) {print $3}}' >> lr2.dat\n",
    "    grep LR run$step/REPORT |awk '{if (NR%3==0) {print $3}}' >> lr3.dat\n",
    "    grep LR run$step/REPORT |awk '{print $3}' >> lr.dat\n",
    "  fi\n",
    "  let step=step+1\n",
    "done\n",
    "\n",
    "avR1=$(awk 'BEGIN {a=0.} {a+=$1} END {printf(\"%12.16f\\n\",a/NR)}' lr1.dat )\n",
    "avR2=$(awk 'BEGIN {a=0.} {a+=$1} END {printf(\"%12.16f\\n\",a/NR)}' lr2.dat )\n",
    "avR3=$(awk 'BEGIN {a=0.} {a+=$1} END {printf(\"%12.16f\\n\",a/NR)}' lr3.dat )\n",
    "avR=$(awk 'BEGIN {a=0.} {a+=$1} END {printf(\"%12.16f\\n\",a/NR)}' lr.dat )\n",
    "\n",
    "av=$(awk 'BEGIN {a=0.} {a+=$1} END {printf(\"%12.16f\\n\",a/NR)}' lv.dat )\n",
    "\n",
    "echo \"            volume:\" $av \"A^3\"\n",
    "echo \"      lat. vect. 1:\" $avR1 \"A\"\n",
    "echo \"      lat. vect. 2:\" $avR2 \"A\"\n",
    "echo \"      lat. vect. 3:\" $avR3 \"A\"\n",
    "echo \"average lat. vect.:\" $avR \"A\"\n",
    "```\n",
    "***"
   ]
  },
  {
   "cell_type": "markdown",
   "metadata": {},
   "source": [
    "<details>\n",
    "<summary> Click to see the answer! </summary>\n",
    "\n",
    "Enter the following into the terminal:\n",
    "\n",
    "```shell\n",
    "    bash get_lattice_parameters.sh\n",
    "```\n",
    "\n",
    "<br>\n",
    "This will print\n",
    "\n",
    "```\n",
    "            volume: 319.2866156019985056 A^3\n",
    "      lat. vect. 1: 7.6725385406666202 A\n",
    "      lat. vect. 2: 7.6724639906667154 A\n",
    "      lat. vect. 3: 7.6741732270000416 A\n",
    "average lat. vect.: 7.6730585861110878 A\n",
    "```\n",
    "\n",
    "</details>"
   ]
  },
  {
   "cell_type": "markdown",
   "metadata": {},
   "source": [
    "What is the reason for the observed deviation from perfect symmetry and how could one improve upon it?"
   ]
  },
  {
   "cell_type": "markdown",
   "metadata": {},
   "source": [
    "<details>\n",
    "<summary> Click to see the answer! </summary>\n",
    "\n",
    "The simulation time should be longer.\n",
    "\n",
    "</details>"
   ]
  },
  {
   "cell_type": "markdown",
   "metadata": {},
   "source": [
    "#### **6.4 Questions**\n",
    "1. Which tags must be set to employ machine-learned force fields?\n",
    "2. How can the ensemble average be computed based on monitored geometric coordinates?"
   ]
  },
  {
   "cell_type": "markdown",
   "metadata": {},
   "source": [
    "***\n",
    "<a name=\"MD-e07\"></a>\n",
    "### **7 Transferability of machine-learned force fields and the thermal expansion coefficient**  <div style=\"float: right\"><a href=#top-MD-p2>$\\uparrow$</a></div>"
   ]
  },
  {
   "cell_type": "markdown",
   "metadata": {},
   "source": [
    "By the end of this tutorial, you will be able to:\n",
    "- check if a force field is applicable to a specific system or parameter set \n",
    "- extract monitored geometric coordinates from the **REPORT** file without guidance\n",
    "- compute the thermal expansion coefficient"
   ]
  },
  {
   "cell_type": "markdown",
   "metadata": {
    "tags": []
   },
   "source": [
    "#### **7.1 Task**"
   ]
  },
  {
   "cell_type": "markdown",
   "metadata": {},
   "source": [
    "*Determine the lattice constant and cell volume at 200K and 300K of silicon using a simulation of 16 Si atoms using a machine-learned force field, that is trained at 400K, and check the transferability. Then, plot the volume vs temperature curve at T=200K, 300K and 400K to extract the thermal expansion coefficient.*\n",
    "\n",
    "After training, the force field can be used to run MD simulations without any ab-initio calculation. If a sudden increase of the Bayesian error occurs during such an MD simulation, this is a sign that you have entered an unknown part of the phase space. For instance, there might have been a phase transition or structure transition, and you need to re-train the force field to capture this new part of the phase space. Which file and [INCAR](https://www.vasp.at/wiki/index.php/INCAR) tag do you need to continue training?"
   ]
  },
  {
   "cell_type": "markdown",
   "metadata": {},
   "source": [
    "<details>\n",
    "<summary> Click to see the answer! </summary>\n",
    "\n",
    "The training data is written to [ML_ABN](https://www.vasp.at/wiki/index.php/ML_ABN). To continue training, copy it to [ML_AB](https://www.vasp.at/wiki/index.php/ML_AB)! In the [INCAR](https://www.vasp.at/wiki/index.php/INCAR) file, set [ML_ISTART](https://www.vasp.at/wiki/index.php/ML_ISTART) = 1. As mentioned, training runs are often split in multiple runs. \n",
    "Other reasons, you might want to continue learning include, for instance, introducing a defect or a surface or a new part of the phase space. The final force field parameters are stored in the [ML_FFN](https://www.vasp.at/wiki/index.php/ML_FFN) file. \n",
    "    \n",
    "</details>"
   ]
  },
  {
   "cell_type": "markdown",
   "metadata": {},
   "source": [
    "However, it is not always necessary to re-train the force field when changing some input parameter like the temperature. Specifically, it becomes obsolete when all local reference configurations already sufficiently represent the phase space of the ensemble. Under the condition that no phase transition occured, this can be checked for the cubic-diomond structure of Si in the following way: Monitor the cell volume over a sufficently long MD simulation using machine-learned force fields at (i) the parameter set that the force field was trained at, and (ii) the parameter set that the force field shall be applied at.\n",
    "\n",
    "<center><img src=\"e07_transferability/probDens_V.png\" width=\"450\"></center>"
   ]
  },
  {
   "cell_type": "markdown",
   "metadata": {},
   "source": [
    "From the figure above, it becomes clear that all local configurations encountered at T=200K are already part of the phase space at T=400K."
   ]
  },
  {
   "cell_type": "markdown",
   "metadata": {},
   "source": [
    "#### **7.2 Input**"
   ]
  },
  {
   "cell_type": "markdown",
   "metadata": {},
   "source": [
    "The input files to run this example are prepared at `$TUTORIALS/md-part2/e07_transferability`."
   ]
  },
  {
   "cell_type": "markdown",
   "metadata": {},
   "source": [
    "T200/[POSCAR](https://www.vasp.at/wiki/index.php/POSCAR)\n",
    "***\n",
    "```\n",
    "Si16                            \n",
    "   1.00000000000000     \n",
    "     5.3624447746476855    5.5400100183731507    0.0700508263882775\n",
    "    -0.1026916424435065    5.4955175489648100    5.3928259065244042\n",
    "     5.3656648144783077    0.0000000000074444    5.3656648144915682\n",
    "   Si\n",
    "    16\n",
    "Direct\n",
    "  0.3212010412955938  1.3122856727003269  0.3107451948534489\n",
    "  0.3099668704222282  1.3146348632874632  0.8288902495003547\n",
    "  0.3190369218612182  0.8111634591779978  0.3126913394179140\n",
    "  0.2964956802844875  0.8343361799802838  0.7984199634929852\n",
    " -0.1766690667617155  1.3078055467087799  0.3088469130669039\n",
    " -0.2038766002481691  1.3305436458574109  0.8018907176046941\n",
    " -0.2003648833919671  0.8282181476495500  0.3026407148396788\n",
    " -0.1675550956561834  0.8103292509940945  0.7973543668027023\n",
    " -0.0758170429801609  0.9622474667873430 -0.0839264059441386\n",
    " -0.0542200245872866  0.9178777992299831  0.4384155478173355\n",
    " -0.0619164867449546  0.4239763619295857 -0.0540445435655039\n",
    " -0.0538739091128493  0.4506419722481186  0.4087116766428151\n",
    " -0.5438457475714482  0.9409158460879290 -0.0753386574943992\n",
    " -0.5635400079666790  0.9382672549358126  0.4303926097780276\n",
    " -0.5720496423072036  0.4530161102738596 -0.0725936233880037\n",
    " -0.5653120928179174  0.4206999169232948  0.4580255784680702\n",
    "```\n",
    "***\n",
    "T300/[POSCAR](https://www.vasp.at/wiki/index.php/POSCAR).init\n",
    "***\n",
    "```\n",
    "Si16                                    \n",
    "   1.00000000000000     \n",
    "     5.3624447746476855    5.5400100183731507    0.0700508263882775\n",
    "    -0.1026916424435065    5.4955175489648100    5.3928259065244042\n",
    "     5.3656648144783077    0.0000000000074444    5.3656648144915682\n",
    "   Si\n",
    "    16\n",
    "Direct\n",
    "  0.3212010412955938  1.3122856727003269  0.3107451948534489\n",
    "  0.3099668704222282  1.3146348632874632  0.8288902495003547\n",
    "  0.3190369218612182  0.8111634591779978  0.3126913394179140\n",
    "  0.2964956802844875  0.8343361799802838  0.7984199634929852\n",
    " -0.1766690667617155  1.3078055467087799  0.3088469130669039\n",
    " -0.2038766002481691  1.3305436458574109  0.8018907176046941\n",
    " -0.2003648833919671  0.8282181476495500  0.3026407148396788\n",
    " -0.1675550956561834  0.8103292509940945  0.7973543668027023\n",
    " -0.0758170429801609  0.9622474667873430 -0.0839264059441386\n",
    " -0.0542200245872866  0.9178777992299831  0.4384155478173355\n",
    " -0.0619164867449546  0.4239763619295857 -0.0540445435655039\n",
    " -0.0538739091128493  0.4506419722481186  0.4087116766428151\n",
    " -0.5438457475714482  0.9409158460879290 -0.0753386574943992\n",
    " -0.5635400079666790  0.9382672549358126  0.4303926097780276\n",
    " -0.5720496423072036  0.4530161102738596 -0.0725936233880037\n",
    " -0.5653120928179174  0.4206999169232948  0.4580255784680702\n",
    "```\n",
    "***\n",
    "T200/[INCAR](https://www.vasp.at/wiki/index.php/INCAR).init\n",
    "***\n",
    "```\n",
    "SYSTEM = Si16\n",
    "ISYM   = 0        ! no symmetry imposed\n",
    "\n",
    "! MD\n",
    "IBRION = 0        ! MD (treat ionic dgr of freedom)\n",
    "NSW    = 10000    ! no of ionic steps\n",
    "POTIM  = 2.0      ! MD time step in fs\n",
    "\n",
    "MDALGO = 3                ! Langevin thermostat\n",
    "LANGEVIN_GAMMA   = 1      ! friction\n",
    "LANGEVIN_GAMMA_L = 10     ! lattice friction\n",
    "PMASS  = 10               ! lattice mass\n",
    "TEBEG  = 200              ! temperature\n",
    "\n",
    "ISIF   = 3        ! update positions, cell shape and volume \n",
    "\n",
    "! machine learning\n",
    "ML_LMLFF  = T\n",
    "ML_ISTART = 2\n",
    "```\n",
    "***\n",
    "T300/[INCAR](https://www.vasp.at/wiki/index.php/INCAR).init\n",
    "***\n",
    "```\n",
    "SYSTEM = Si16\n",
    "ISYM   = 0        ! no symmetry imposed\n",
    "\n",
    "! MD\n",
    "IBRION = 0        ! MD (treat ionic dgr of freedom)\n",
    "NSW    = 10000    ! no of ionic steps\n",
    "POTIM  = 2.0      ! MD time step in fs\n",
    "\n",
    "MDALGO = 3                ! Langevin thermostat\n",
    "LANGEVIN_GAMMA   = 1      ! friction\n",
    "LANGEVIN_GAMMA_L = 10     ! lattice friction\n",
    "PMASS  = 10               ! lattice mass\n",
    "TEBEG  = 300              ! temperature\n",
    "\n",
    "ISIF   = 3        ! update positions, cell shape and volume \n",
    "\n",
    "! machine learning\n",
    "ML_LMLFF  = T\n",
    "ML_ISTART = 2\n",
    "```\n",
    "***\n",
    "[ICONST](https://www.vasp.at/wiki/index.php/ICONST)\n",
    "***\n",
    "```\n",
    "LR 1 7\n",
    "LR 2 7\n",
    "LR 3 7\n",
    "LA 2 3 7\n",
    "LA 1 3 7\n",
    "LA 1 2 7\n",
    "LV 7\n",
    "```\n",
    "***\n",
    "[KPOINTS](https://www.vasp.at/wiki/index.php/KPOINTS)\n",
    "***\n",
    "```\n",
    "Gamma-point only\n",
    " 0\n",
    "Monkhorst Pack\n",
    " 1 1 1\n",
    " 0 0 0\n",
    "```\n",
    "***\n",
    "[POTCAR](https://www.vasp.at/wiki/index.php/POTCAR)\n",
    "***\n",
    "&emsp;*Pseudopotentials of Si.*\n",
    "***"
   ]
  },
  {
   "cell_type": "markdown",
   "metadata": {},
   "source": [
    "Check all tags set in the [INCAR](https://www.vasp.at/wiki/index.php/INCAR) files!\n",
    "\n",
    "Which lines in the [ICONST](https://www.vasp.at/wiki/index.php/ICONST) file are required to monitor the length of lattice vectors and the cell volume? What is the meaning of the remaining lines?"
   ]
  },
  {
   "cell_type": "markdown",
   "metadata": {},
   "source": [
    "<details>\n",
    "<summary> Click to see the answer! </summary>\n",
    "\n",
    "The lines starting with `LR` and `LV`. The lines starting with `LA` monitor the lattice angles.\n",
    "    \n",
    "</details>"
   ]
  },
  {
   "cell_type": "markdown",
   "metadata": {},
   "source": [
    "#### **7.3 Calculation**"
   ]
  },
  {
   "cell_type": "markdown",
   "metadata": {},
   "source": [
    "Open a terminal, navigate to this example's directory and run VASP by entering the following:\n",
    "```shell\n",
    "cd $TUTORIALS/md-part2/e07_*/T200\n",
    "ln -s $TUTORIALS/md-part2/e04_MLFF/ML_FFN ML_FF\n",
    "bash run\n",
    "\n",
    "cd $TUTORIALS/md-part2/e07_*/T300\n",
    "ln -s $TUTORIALS/md-part2/e04_MLFF/ML_FFN ML_FF\n",
    "bash run\n",
    "```\n",
    "\n",
    "Extract the lattice vectors and cell volume at each MD step from the subdirectories `T*/run*`. Then, take the ensemble average and compare the result with the result at T=400K, which you computed in [Example 6](#MD-e06)."
   ]
  },
  {
   "cell_type": "markdown",
   "metadata": {},
   "source": [
    "<details>\n",
    "<summary> Click to get a tipp! </summary>\n",
    "\n",
    "Write your own python code in the code box below, or use the bash script **get_lattice_parameters.sh** used in [Example 6](#MD-e06)! \n",
    "\n",
    "To use bash commands in the code box, you can escape the notebook by starting the line with `!`. For instance, to show the content of the directory of this example use\n",
    "\n",
    "```\n",
    "    ! ls e07_transferability\n",
    "```\n",
    "    \n",
    "</details>"
   ]
  },
  {
   "cell_type": "code",
   "execution_count": 1,
   "metadata": {},
   "outputs": [],
   "source": [
    "import numpy as np\n",
    "\n",
    "# extract the lattice vectors and cell volume\n",
    "\n",
    "\n",
    "# take the average\n",
    "\n",
    "\n",
    "# print the result\n"
   ]
  },
  {
   "cell_type": "markdown",
   "metadata": {},
   "source": [
    "<details>\n",
    "<summary> Click to see the answer! </summary>\n",
    "\n",
    "Use the same script as in [Example 6](#MD-e06) to extract and take the average of the lattice vectors and cell volume over the simulation time!\n",
    "\n",
    "**get_lattice_parameters.sh**\n",
    "***\n",
    "```bash\n",
    "#!/bin/bash\n",
    "\n",
    "if test -f lv.dat\n",
    "then\n",
    "  rm lv.dat\n",
    "  rm lr1.dat lr2.dat lr3.dat lr.dat\n",
    "fi\n",
    "\n",
    "step=1\n",
    "\n",
    "while [ $step -le 3 ]\n",
    "do\n",
    "  if test -f run$step/REPORT\n",
    "  then\n",
    "    grep LV run$step/REPORT |awk '{print $3}' >> lv.dat\n",
    "    grep LR run$step/REPORT |awk '{if (NR%3==1) {print $3}}' >> lr1.dat\n",
    "    grep LR run$step/REPORT |awk '{if (NR%3==2) {print $3}}' >> lr2.dat\n",
    "    grep LR run$step/REPORT |awk '{if (NR%3==0) {print $3}}' >> lr3.dat\n",
    "    grep LR run$step/REPORT |awk '{print $3}' >> lr.dat\n",
    "  fi\n",
    "  let step=step+1\n",
    "done\n",
    "\n",
    "avR1=$(awk 'BEGIN {a=0.} {a+=$1} END {printf(\"%12.16f\\n\",a/NR)}' lr1.dat )\n",
    "avR2=$(awk 'BEGIN {a=0.} {a+=$1} END {printf(\"%12.16f\\n\",a/NR)}' lr2.dat )\n",
    "avR3=$(awk 'BEGIN {a=0.} {a+=$1} END {printf(\"%12.16f\\n\",a/NR)}' lr3.dat )\n",
    "avR=$(awk 'BEGIN {a=0.} {a+=$1} END {printf(\"%12.16f\\n\",a/NR)}' lr.dat )\n",
    "\n",
    "av=$(awk 'BEGIN {a=0.} {a+=$1} END {printf(\"%12.16f\\n\",a/NR)}' lv.dat )\n",
    "\n",
    "echo \"            volume:\" $av \"A^3\"\n",
    "echo \"      lat. vect. 1:\" $avR1 \"A\"\n",
    "echo \"      lat. vect. 2:\" $avR2 \"A\"\n",
    "echo \"      lat. vect. 3:\" $avR3 \"A\"\n",
    "echo \"average lat. vect.:\" $avR \"A\"\n",
    "```\n",
    "***\n",
    "\n",
    "At T=200K, you will find\n",
    "```\n",
    "            volume: 319.0651260920003551 A^3\n",
    "      lat. vect. 1: 7.6710057093333308 A\n",
    "      lat. vect. 2: 7.6712457393333251 A\n",
    "      lat. vect. 3: 7.6705574270000012 A\n",
    "average lat. vect.: 7.6709362918889177 A\n",
    "```\n",
    "    \n",
    "Finally, at T=300K, the result is\n",
    "```\n",
    "            volume: 319.1915296976661125 A^3\n",
    "      lat. vect. 1: 7.6726366676666133 A\n",
    "      lat. vect. 2: 7.6725493826666860 A\n",
    "      lat. vect. 3: 7.6717844066667205 A\n",
    "average lat. vect.: 7.6723234856666895 A\n",
    "```\n",
    "    \n",
    "</details>"
   ]
  },
  {
   "cell_type": "markdown",
   "metadata": {},
   "source": [
    "Plot the cell volume vs. temperature!"
   ]
  },
  {
   "cell_type": "code",
   "execution_count": null,
   "metadata": {},
   "outputs": [],
   "source": [
    "import plotly.express as px\n",
    "\n",
    "# fill the list of volume in the same order as the temperature\n",
    "volume = [ , , ]\n",
    "temperature = [200, 300, 400]\n",
    "\n",
    "px.line(x=temperature,\n",
    "        y=volume,\n",
    "        title=\"Cell volume vs. temperature\")"
   ]
  },
  {
   "cell_type": "markdown",
   "metadata": {},
   "source": [
    "<details>\n",
    "<summary> Click to see the answer! </summary>\n",
    "\n",
    "```python\n",
    "volume = [319.0651260920003551 , 319.1915296976661125, 319.2866156019985056]\n",
    "```\n",
    "    \n",
    "<center><img src=\"e07_transferability/volume_temperature.png\" width=\"350\"></center>\n",
    "    \n",
    "</details>"
   ]
  },
  {
   "cell_type": "markdown",
   "metadata": {},
   "source": [
    "The dependence on the volume ($V$) is approximately linear on this temperature ($T$) range. Make use of this fact to estimate the isotropic expansion coefficient:\n",
    "\n",
    "$$\n",
    "\\alpha_V = \\frac{1}{V} \\frac{dV}{dT}\n",
    "$$\n",
    "\n",
    "In other words, determine the derivative from the slope of the cell volume vs. temperature dependence. "
   ]
  },
  {
   "cell_type": "code",
   "execution_count": null,
   "metadata": {},
   "outputs": [],
   "source": [
    "alpha_V = 1./volume[2] * (volume[2]-volume[0])/(temperature[2]-temperature[0])\n",
    "print(\"Thermal expansion coefficient of Si:\", alpha_V)"
   ]
  },
  {
   "cell_type": "markdown",
   "metadata": {},
   "source": [
    "<details>\n",
    "<summary> Click to see the answer! </summary>\n",
    "\n",
    "Thermal expansion coefficient of Si: 3.4685060252297662e-06\n",
    "    \n",
    "</details>"
   ]
  },
  {
   "cell_type": "markdown",
   "metadata": {},
   "source": [
    "However, in the experiment, the linear expansion coefficient is determined considering the lenght of a lattice vector: \n",
    "\n",
    "$$\n",
    "\\alpha_L = \\frac{1}{L} \\frac{dL}{dT}.\n",
    "$$\n",
    "\n",
    "The experimental value for Si is reported to be 2.6e-6K$^{-1}$ in [Y Okada and Y Tokumaru, JAP **56**, 314 (1984)](https://doi.org/10.1063/1.333965). Note that for a cubic lattice the following equality holds:\n",
    "\n",
    "$$\n",
    "\\alpha_L = \\alpha_V / 3 \n",
    "$$\n",
    "\n",
    "and use it to determine $\\alpha_L$! How does your value compare with experiment?"
   ]
  },
  {
   "cell_type": "code",
   "execution_count": null,
   "metadata": {},
   "outputs": [],
   "source": [
    "alpha_L = alpha_V/3 \n",
    "print(\"Linear expansion coefficient of Si:\", alpha_L)"
   ]
  },
  {
   "cell_type": "markdown",
   "metadata": {},
   "source": [
    "<details>\n",
    "<summary> Click to see the answer! </summary>\n",
    "\n",
    "Linear expansion coefficient of Si: 1.1561686750765887e-06\n",
    "    \n",
    "</details>"
   ]
  },
  {
   "cell_type": "markdown",
   "metadata": {},
   "source": [
    "Alternatively, $\\alpha_L$ can be computed directly by measuring the lengths of lattice vectors. Here, we can make use of the fact that all three vectors are equivalent and combine them to improve statistics. Plot the average lattice vector vs. temperature, then determine $\\alpha_L$ and compare it with the value you obtained through the volume dependence. What are the likely reasons for the difference?"
   ]
  },
  {
   "cell_type": "code",
   "execution_count": null,
   "metadata": {},
   "outputs": [],
   "source": [
    "import plotly.express as px\n",
    "\n",
    "lattice_vector = [7.6709362918889177, 7.6723234856666895, 7.6730585861110878]\n",
    "temperature = [200, 300, 400]\n",
    "\n",
    "alpha_L = 1./lattice_vector[1] * (lattice_vector[2]-lattice_vector[0])/(temperature[2]-temperature[0])\n",
    "print(\"Linear expansion coefficient of Si:\", alpha_L)\n",
    "\n",
    "px.line(x=temperature,\n",
    "        y=lattice_vector,\n",
    "        title=\"Lattice vector vs. temperature\")"
   ]
  },
  {
   "cell_type": "markdown",
   "metadata": {},
   "source": [
    "<details>\n",
    "<summary> Click to see the answer! </summary>\n",
    "\n",
    "Linear expansion coefficient of Si: 1.3830844242522985e-06\n",
    "\n",
    "<center><img src=\"e07_transferability/lattice_temperature.png\" width=\"350\"></center>\n",
    "    \n",
    "</details>"
   ]
  },
  {
   "cell_type": "markdown",
   "metadata": {},
   "source": [
    "#### **7.4 Questions**\n",
    "1. Under what condition is a force field transferable to a new parameter set or system?\n",
    "2. How is the thermal expansion coefficient defined?\n",
    "3. Which file are monitored geometric coordinates written to?"
   ]
  },
  {
   "cell_type": "markdown",
   "metadata": {},
   "source": [
    "### **Good job! You have finished Part 2!**\n",
    "\n",
    "[Go to Top $\\uparrow$](#top-MD-p2)"
   ]
  }
 ],
 "metadata": {
  "kernelspec": {
   "display_name": "Python 3 (ipykernel)",
   "language": "python",
   "name": "python3"
  },
  "language_info": {
   "codemirror_mode": {
    "name": "ipython",
    "version": 3
   },
   "file_extension": ".py",
   "mimetype": "text/x-python",
   "name": "python",
   "nbconvert_exporter": "python",
   "pygments_lexer": "ipython3",
   "version": "3.9.12"
  },
  "widgets": {
   "application/vnd.jupyter.widget-state+json": {
    "state": {},
    "version_major": 2,
    "version_minor": 0
   }
  }
 },
 "nbformat": 4,
 "nbformat_minor": 4
}

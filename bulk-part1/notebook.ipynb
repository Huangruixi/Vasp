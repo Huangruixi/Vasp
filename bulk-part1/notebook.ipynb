{
 "cells": [
  {
   "cell_type": "markdown",
   "metadata": {},
   "source": [
    "<a name=\"top-bulk-p1\"></a>\n",
    "# **Part 1: Silicon as a typical bulk material**"
   ]
  },
  {
   "cell_type": "markdown",
   "metadata": {},
   "source": [
    "<div class=\"download tutorial\" style=\"float: right\">\n",
    "    <a href=\"../../bulk-part1.zip\" download=\"bulk-part1.zip\"> \n",
    "        <button class=\"btn btn-primary\"> <i class=\"fa fa-download\"></i> Download this tutorial</button>\n",
    "    </a> \n",
    "</div>\n",
    "\n",
    "#### Content\n",
    "&emsp;[1 Lattice constant for face-centered-cubic silicon](#bulk-e01)  \n",
    "&emsp;[2 Density of states for face-centered-cubic silicon](#bulk-e02)  \n",
    "&emsp;[3 Band structure for face-centered-cubic silicon](#bulk-e03)   "
   ]
  },
  {
   "cell_type": "markdown",
   "metadata": {},
   "source": [
    "***\n",
    "<a name=\"bulk-e01\"></a>\n",
    "### **1 Lattice constant for face-centered-cubic silicon** <div style=\"float: right\"><a href=#top-bulk-p1>$\\uparrow$</a></div>"
   ]
  },
  {
   "cell_type": "markdown",
   "metadata": {},
   "source": [
    "By the end of this tutorial, you will be able to:\n",
    "- recognize a face-centered-cubic (fcc) structure by looking at the lattice matrix\n",
    "- create a 𝝘-centered $\\vec{k}$ mesh\n",
    "- find the lattice constant of a fcc structure by manually performing density-functional-theory (DFT) calculations at different volumes of the unit cell\n",
    "- use the universal scaling factor in the **POSCAR** file"
   ]
  },
  {
   "cell_type": "markdown",
   "metadata": {},
   "source": [
    "#### **1.1 Task**"
   ]
  },
  {
   "cell_type": "markdown",
   "metadata": {},
   "source": [
    "*Perform multiple DFT calculations for fcc silicium at different lattice constants and find the total energy minimum w.r.t. the lattice constant.*\n",
    "\n",
    "There are 14 [Bravais lattices](https://en.wikipedia.org/wiki/Bravais_lattice#In_3_dimensions), that are obtained by combining one of the seven [lattice systems](https://en.wikipedia.org/wiki/Crystal_system) ([triclinic](https://en.wikipedia.org/wiki/Triclinic_crystal_system), [monoclinic](https://en.wikipedia.org/wiki/Monoclinic_crystal_system), [orthorhombic](https://en.wikipedia.org/wiki/Orthorhombic_crystal_system), [tetragonal](https://en.wikipedia.org/wiki/Tetragonal_crystal_system), [hexagonal](https://en.wikipedia.org/wiki/Hexagonal_crystal_family) and [cubic](https://en.wikipedia.org/wiki/Cubic_crystal_system)) with one of the centering types (primitive, base-centered, body-centered and face-centered). A [primitive unit cell](https://en.wikipedia.org/wiki/Primitive_cell) is the smallest building block of a periodic system, i.e., here of a bulk [crystal](https://en.wikipedia.org/wiki/Crystal_structure). It is spanned by three lattice vectors $\\vec{a}$, $\\vec{b}$ and $\\vec{c}$, with certain properties, for instance the enclosed angle, depending on the lattice system. \n",
    "\n",
    "Additionally, if you take the Fourier transform of the real-space lattice, your system is transformed into $\\vec{k}$ space, also called reciprocal space. The first [Brillouin zone](https://en.wikipedia.org/wiki/Brillouin_zone) is a uniquely defined primitive cell in reciprocal space.  A computationally important concept is the irreducible Brillouin zone, which is the first Brillouin zone reduced by all symmetry operations in the crystallographic point group. Another concept worth mentioning is the use of high-symmetry lines and points, which are of special interest due to symmetry imposed degeneracies in the electronic band structure. These points have special names, such as the 𝝘-point at the origin of the Brillouin zone."
   ]
  },
  {
   "cell_type": "markdown",
   "metadata": {},
   "source": [
    "#### **1.2 Input**"
   ]
  },
  {
   "cell_type": "markdown",
   "metadata": {},
   "source": [
    "The input files to run this example should be prepared at `$TUTORIALS/bulk-part1/e01_fcc-Si`. \n",
    "\n",
    "VASP looks in the current directory for four main input files, i.e., [POSCAR](https://www.vasp.at/wiki/index.php/POSCAR), [INCAR](https://www.vasp.at/wiki/index.php/INCAR), [KPOINTS](https://www.vasp.at/wiki/index.php/KPOINTS) and [POTCAR](https://www.vasp.at/wiki/index.php/POTCAR). Check them out!"
   ]
  },
  {
   "cell_type": "markdown",
   "metadata": {},
   "source": [
    "[POSCAR](https://www.vasp.at/wiki/index.php/POSCAR)\n",
    "***\n",
    "```\n",
    "fcc Si\n",
    "a\n",
    " 0.5 0.5 0.0\n",
    " 0.0 0.5 0.5\n",
    " 0.5 0.0 0.5\n",
    "   1\n",
    "cartesian\n",
    "0 0 0\n",
    "```\n",
    "***\n",
    "[INCAR](https://www.vasp.at/wiki/index.php/INCAR)\n",
    "***\n",
    "```\n",
    "System = fcc Si\n",
    "\n",
    "ISTART = 0    ! start from scratch\n",
    "ICHARG = 2    ! superposition of atomic charge densities\n",
    "\n",
    "ENCUT  = 240  ! energy cutoff\n",
    "ISMEAR = 0    ! Gaussian smearing\n",
    "SIGMA = 0.1   ! broadening\n",
    "```\n",
    "***\n",
    "\n",
    "[KPOINTS](https://www.vasp.at/wiki/index.php/KPOINTS)\n",
    "***\n",
    "```\n",
    "K-Points\n",
    " 0\n",
    "Monkhorst Pack\n",
    " 11 11 11\n",
    " 0  0  0\n",
    "```\n",
    "***\n",
    "[POTCAR](https://www.vasp.at/wiki/index.php/POTCAR)\n",
    "***\n",
    "&emsp;*Pseudopotential of Si.*\n",
    "***"
   ]
  },
  {
   "cell_type": "markdown",
   "metadata": {},
   "source": [
    "Regarding the [POSCAR](https://www.vasp.at/wiki/index.php/POSCAR) file:\n",
    "The conventional cell of an fcc structure, shows all symmetries, that correspond to a cube ($a=b=c$) with additional sites in the center of each face. But there is a choice of lattice vectors, which represents the same structure in a smaller unit cell. That is the primitive unit cell. A symmetric choice of primitive lattice vectors is  \n",
    "$$\\tag{1a}\n",
    "\\vec{a} = \\frac{a}{2} \\left( \\hat{x} + \\hat{y} \\right)\n",
    "$$  \n",
    "$$\\tag{1b}\n",
    "\\vec{b} = \\frac{a}{2} \\left( \\hat{y} + \\hat{z} \\right)\n",
    "$$  \n",
    "$$\\tag{1c}\n",
    "\\vec{c} = \\frac{a}{2} \\left( \\hat{z} + \\hat{x} \\right).\n",
    "$$  "
   ]
  },
  {
   "cell_type": "markdown",
   "metadata": {},
   "source": [
    "<center><img src=\"e01_fcc-Si/fcc-unit-cell.png\" width=\"350\"></center>"
   ]
  },
  {
   "cell_type": "markdown",
   "metadata": {},
   "source": [
    "Ask yourself, how many atoms comprises the conventional unit cell and how many atoms comprises the primitive unit cell?"
   ]
  },
  {
   "cell_type": "markdown",
   "metadata": {},
   "source": [
    "<details>\n",
    "<summary> Click to see the answer! </summary>\n",
    "\n",
    "In the conventional unit cell, there are 8 vertices and 6 faces, where atoms are shared by multiple cells so that they contribute with $1/8$ and $1/2$ respectively. In total this yields\n",
    "$$\n",
    "n = 8 \\cdot \\frac{1}{8} + 6 \\cdot \\frac{1}{2} = 4\n",
    "$$\n",
    "atoms in the conventional unit cell. Similarly, you will find 1 atom in the primitive unit cell.\n",
    "\n",
    "</details>"
   ]
  },
  {
   "cell_type": "markdown",
   "metadata": {},
   "source": [
    "If you open this example's [POSCAR](https://www.vasp.at/wiki/index.php/POSCAR) file the lattice constant is indicated by a place holder `a` at the position of the universal scaling parameter. Do you see how Equation $(1a)$-$(1c)$ translate to this [POSCAR](https://www.vasp.at/wiki/index.php/POSCAR) file?"
   ]
  },
  {
   "cell_type": "markdown",
   "metadata": {},
   "source": [
    "<details>\n",
    "<summary> Click to see the answer! </summary>\n",
    "\n",
    "Line 3, 4, 5 correspond to $\\vec{b}/a$, $\\vec{c}/a$ and $\\vec{a}/a$, respectively. Then, Equation $(1a)$-$(1c)$ are recovered by interpreting the universal scaling parameter in line 2 as lattice constant.\n",
    "\n",
    "</details>"
   ]
  },
  {
   "cell_type": "markdown",
   "metadata": {},
   "source": [
    "Regarding the [INCAR](https://www.vasp.at/wiki/index.php/INCAR) file, the default setting for VASP is to look for an existing [WAVECAR](https://www.vasp.at/wiki/index.php/WAVECAR) file in the current directory and restart the calculation from there. Thus, it is possible to delete the [WAVECAR](https://www.vasp.at/wiki/index.php/WAVECAR) file to start a fresh calculation. It is also possible to control the behavior explicitly by means of the [ISTART](https://www.vasp.at/wiki/index.php/ISTART) tag and [ICHARG](https://www.vasp.at/wiki/index.php/ICHARG) tag. Check out the meaning of those tags on the [VASP Wiki](https://www.vasp.at/wiki/index.php)!\n",
    "\n",
    "How is the charge density initialized? What is the energy cutoff? What would the energy cutoff be, if it were not set in the [INCAR](https://www.vasp.at/wiki/index.php/INCAR) file?"
   ]
  },
  {
   "cell_type": "markdown",
   "metadata": {},
   "source": [
    "<details>\n",
    "<summary> Click to see the answer! </summary>\n",
    "\n",
    "* Initial charge density from overlapping atoms.\n",
    "* Energy cutoff of 240 eV from [POTCAR](https://www.vasp.at/wiki/index.php/POTCAR) file.\n",
    "\n",
    "</details>"
   ]
  },
  {
   "cell_type": "markdown",
   "metadata": {},
   "source": [
    "Regarding the [KPOINTS](https://www.vasp.at/wiki/index.php/KPOINTS) file, the [Monkhorst Pack](https://www.vasp.at/wiki/index.php/KPOINTS#Monkhorst-Pack) mode is used to generate a $\\vec{k}$ mesh with equally spaced $\\vec{k}$ points. The odd number of $\\vec{k}$ points in each direction results in a $\\Gamma$-centered $\\vec{k}$ mesh."
   ]
  },
  {
   "cell_type": "markdown",
   "metadata": {},
   "source": [
    "#### **1.3 Calculation**"
   ]
  },
  {
   "cell_type": "markdown",
   "metadata": {},
   "source": [
    "Open a terminal, navigate to this example's directory by entering the following:\n",
    "```shell\n",
    "cd $TUTORIALS/bulk-part1/e01_*\n",
    "```\n",
    "\n",
    "In order to run VASP at different lattice constants, the [POSCAR](https://www.vasp.at/wiki/index.php/POSCAR) file needs to be adjusted. For each run replace `a` with $3.5$ - $4.3$ with step size $0.1$ and run VASP with\n",
    "~~~shell\n",
    "mpirun -np 2 vasp_std\n",
    "~~~\n",
    "After VASP ran, the [OSZICAR](https://www.vasp.at/wiki/index.php/OSZICAR) file contains a summary stating the total free energy. Run multiple VASP calculations at different lattice constants and store the result in **loop_lattice_constant.dat**!"
   ]
  },
  {
   "cell_type": "markdown",
   "metadata": {},
   "source": [
    "<details>\n",
    "<summary> Click to see the provided script to do the job! </summary>\n",
    "\n",
    "***\n",
    "```shell\n",
    "rm -f loop_lattice_constant.dat\n",
    "for a in  3.5 3.6 3.7 3.8 3.9 4.0 4.1 4.2 4.3\n",
    "do\n",
    "cat > POSCAR << EOF\n",
    "fcc:\n",
    "$a\n",
    " 0.5 0.5 0.0\n",
    " 0.0 0.5 0.5\n",
    " 0.5 0.0 0.5\n",
    "1\n",
    "cartesian\n",
    "0 0 0\n",
    "EOF\n",
    "\n",
    "mpirun -np 2 vasp_std\n",
    "\n",
    "en=$(awk '/F=/ {print $0}' OSZICAR)\n",
    "echo $a $en  >> loop_lattice_constant.dat\n",
    "done\n",
    "```\n",
    "***\n",
    "\n",
    "In this example's directory enter the following into the terminal to run the above script:\n",
    "\n",
    "~~~shell\n",
    "    bash loop_lattice_constant.sh\n",
    "~~~\n",
    "\n",
    "</details>"
   ]
  },
  {
   "cell_type": "markdown",
   "metadata": {},
   "source": [
    "Plot the data collected in **loop_lattice_constant.dat**!"
   ]
  },
  {
   "cell_type": "markdown",
   "metadata": {},
   "source": [
    "<details>\n",
    "<summary> Click to see the answer! </summary>\n",
    "\n",
    "You can use the gnuplot script **loop_lattice_constant.gp**, that is prepared in this example's directory:\n",
    "***\n",
    "```\n",
    "set term png\n",
    "set output \"loop_lattice_constant.png\"\n",
    "\n",
    "set title \"lattice constant of fcc Si\"\n",
    "set xlabel \"lattice constant [Angstrom]\"\n",
    "set ylabel \"total free energy\"\n",
    "\n",
    "plot \"loop_lattice_constant.dat\" using 1:4 w lp\n",
    "```\n",
    "***\n",
    "It can be executed by entering the following into the terminal in this example's directory:\n",
    "\n",
    "~~~shell\n",
    "    gnuplot loop_lattice_constant.gp\n",
    "~~~\n",
    "\n",
    "<br>\n",
    "\n",
    "Then, open **loop_lattice_constant.png** from the file browser. You may need to refresh the file browser. \n",
    "\n",
    "</details>"
   ]
  },
  {
   "cell_type": "markdown",
   "metadata": {},
   "source": [
    "<center><img src=\"e01_fcc-Si/loop_lattice_constant.png\" width=\"700\"></center>"
   ]
  },
  {
   "cell_type": "markdown",
   "metadata": {},
   "source": [
    "Among the tested parameters, at what lattice constant is the total energy minimized? Write the [POSCAR](https://www.vasp.at/wiki/index.php/POSCAR) file with the optimal lattice constant and copy it to the next example's directory!"
   ]
  },
  {
   "cell_type": "markdown",
   "metadata": {},
   "source": [
    "<details>\n",
    "<summary> Click to see the answer! </summary>\n",
    "\n",
    "Among the tested parameters, the total energy is minimized at 3.9 Å. Thus, the final calculation is run with:\n",
    "\n",
    "[POSCAR](https://www.vasp.at/wiki/index.php/POSCAR)\n",
    "***\n",
    "```\n",
    "fcc Si\n",
    "3.9            ! scaling parameter\n",
    " 0.5 0.5 0.0\n",
    " 0.0 0.5 0.5\n",
    " 0.5 0.0 0.5\n",
    "   1\n",
    "cartesian\n",
    "0 0 0\n",
    "```\n",
    "***\n",
    "\n",
    "~~~shell\n",
    "    cp POSCAR ../e02_*/.\n",
    "~~~\n",
    "\n",
    "</details>"
   ]
  },
  {
   "cell_type": "markdown",
   "metadata": {},
   "source": [
    "#### **1.4 Questions**\n",
    "\n",
    "1. What is the definition of the 𝝘 point? \n",
    "2. Write down another form of an fcc lattice matrix of a primitive unit cell! \n",
    "3. Does the conventional fcc unit cell comprise nonprimitive translations?"
   ]
  },
  {
   "cell_type": "markdown",
   "metadata": {},
   "source": [
    "***\n",
    "<a name=\"bulk-e02\"></a> \n",
    "### **2 Density of states for face-centered-cubic silicon** <div style=\"float: right\"><a href=#top-bulk-p1>$\\uparrow$</a></div>"
   ]
  },
  {
   "cell_type": "markdown",
   "metadata": {},
   "source": [
    "By the end of this tutorial, you will be able to:\n",
    "- extract the number of irreducible $\\vec{k}$ points from the VASP output \n",
    "- approximate how much computational effort is saved by employing the point-group symmetry of the reciprocal lattice\n",
    "- state the task that the Monkhorst–Pack method addresses \n",
    "- set **ISMEAR** appropriate to compute the density of states (DOS)\n",
    "- plot the DOS using py4vasp\n",
    "- set the **NEDOS**, **EMIN** and **EMAX** tags"
   ]
  },
  {
   "cell_type": "markdown",
   "metadata": {},
   "source": [
    "#### **2.1 Task**"
   ]
  },
  {
   "cell_type": "markdown",
   "metadata": {},
   "source": [
    "*Perform a DFT calculation with the appropriate number of $\\vec{k}$ points and energy broadening in order to plot the DOS of fcc Si.*\n",
    "\n",
    "Locally, the system may obey one of [$32$ crystallographic point groups](https://en.wikipedia.org/wiki/Crystallographic_point_group), which are discrete rotational symmetries of crystals. In order to reduce the computational effort, VASP searches and takes advantage of these symmetries of the system by default. What's more, in reciprocal space, the system obeys a certain translative symmetry group specified by the [Bravais lattices](https://en.wikipedia.org/wiki/Bravais_lattice#In_3_dimensions). This nonlocal symmetry is implicitly defined by imposing periodic boundary conditions onto the structure specified in the [POSCAR](https://www.vasp.at/wiki/index.php/POSCAR) file and it results in a point-group symmetry of the reciprocal lattice. Again, VASP searches and takes advantage of these symmetries, but it is crucial that the $\\vec{k}$ mesh specified in [KPOINTS](https://www.vasp.at/wiki/index.php/KPOINTS) also conserves the same point-group symmetry of the reciprocal lattice as defined by the structure specified in the [POSCAR](https://www.vasp.at/wiki/index.php/POSCAR) file. \n",
    "\n",
    "For more information read the following articles: [Symmetry reduction of the mesh](https://www.vasp.at/wiki/index.php/KPOINTS#Symmetry_reduction_of_the_mesh), [KPOINTS](https://www.vasp.at/wiki/index.php/KPOINTS).\n"
   ]
  },
  {
   "cell_type": "markdown",
   "metadata": {},
   "source": [
    "#### **2.2 Input**"
   ]
  },
  {
   "cell_type": "markdown",
   "metadata": {},
   "source": [
    "The input files to run this example should be prepared at `$TUTORIALS/bulk-part1/e02_fcc-Si-DOS`. Check them out!"
   ]
  },
  {
   "cell_type": "markdown",
   "metadata": {},
   "source": [
    "[POSCAR](https://www.vasp.at/wiki/index.php/POSCAR) *from Example 1*\n",
    "***\n",
    "```\n",
    "fcc Si\n",
    "3.9\n",
    " 0.0 0.5 0.5\n",
    " 0.5 0.0 0.5\n",
    " 0.5 0.5 0.0\n",
    "1\n",
    "cartesian\n",
    "0 0 0\n",
    "```\n",
    "***\n",
    "[INCAR](https://www.vasp.at/wiki/index.php/INCAR)\n",
    "***\n",
    "```\n",
    "System = fcc Si \n",
    "\n",
    "ENCUT = 240\n",
    "\n",
    "ISMEAR = -5      ! tetrahedron method\n",
    "LORBIT = 11\n",
    "```\n",
    "***\n",
    "[KPOINTS](https://www.vasp.at/wiki/index.php/KPOINTS)\n",
    "***\n",
    "```\n",
    "K-Points\n",
    " 0\n",
    "Monkhorst Pack\n",
    " 15 15 15\n",
    " 0  0  0\n",
    "```\n",
    "***\n",
    "[POTCAR](https://www.vasp.at/wiki/index.php/POTCAR)\n",
    "***\n",
    "&emsp;*Pseudopotential of Si.*\n",
    "***"
   ]
  },
  {
   "cell_type": "markdown",
   "metadata": {},
   "source": [
    "Concerning the [INCAR](https://www.vasp.at/wiki/index.php/INCAR) file, check the meaning of [ISMEAR](https://www.vasp.at/wiki/index.php/ISMEAR) = -5 and [LORBIT](https://www.vasp.at/wiki/index.php/LORBIT) = 11!"
   ]
  },
  {
   "cell_type": "markdown",
   "metadata": {},
   "source": [
    "<details>\n",
    "<summary> Click to see the answer! </summary>\n",
    "\n",
    "[ISMEAR](https://www.vasp.at/wiki/index.php/ISMEAR) = -5 calls the tetrahedron method with Blöchl corrections. Mind that this method is not variational with respect to partial occupancies and yields erroneous forces and stress for systems with partially filled bands. Therefore, it should not be used when performing a geometry optimization in metals! [LORBIT](https://www.vasp.at/wiki/index.php/LORBIT) = 11 allows the [DOSCAR](https://www.vasp.at/wiki/index.php/DOSCAR) file to be written.\n",
    "\n",
    "</details>"
   ]
  },
  {
   "cell_type": "markdown",
   "metadata": {},
   "source": [
    "Concerning the [KPOINTS](https://www.vasp.at/wiki/index.php/KPOINTS) file, one scheme to automatically generate a $\\vec{k}$ mesh in VASP is the [Monkhorst–Pack](https://www.vasp.at/wiki/index.php/KPOINTS#Monkhorst-Pack) method. In a nutshell, based on the point group symmetry of the reciprocal lattice, some $\\vec{k}$ points of the first Brillouin zone are found to be equivalent. With this it is possible to define a set of irreducible $\\vec{k}$ points and weights. The weight of an irreducible $\\vec{k}$ point indicates how many equivalent $\\vec{k}$ points exist in the first Brillouin zone. This allows to replace any sum over all $\\vec{k}$ points of the first Brillouin zone by a sum over all irreducible $\\vec{k}$ points with these weights. \n",
    "\n",
    "𝝘-centered $N\\times N \\times N$ Monkhorst-Pack grids guarantee that the reciprocal lattice and the generating lattice obey the same [Bravais lattices](https://en.wikipedia.org/wiki/Bravais_lattice#In_3_dimensions). But depending on your calculation you may not need the same number of $\\vec{k}$ points in each direction. And by varying the number of $\\vec{k}$ points in each direction, you can still end up with a $\\vec{k}$ mesh that is inconsistent with your [Bravais lattices](https://en.wikipedia.org/wiki/Bravais_lattice#In_3_dimensions). For more information read the following articles: [Monkhorst Pack](https://www.vasp.at/wiki/index.php/KPOINTS#Monkhorst-Pack), [Symmetry reduction of the mesh](https://www.vasp.at/wiki/index.php/KPOINTS#Symmetry_reduction_of_the_mesh), [KPOINTS](https://www.vasp.at/wiki/index.php/KPOINTS).\n",
    "\n",
    "Are the $\\vec{k}$ points equally spaced? Is the $\\vec{k}$ mesh 𝝘-centered? Why (not)? Compare the specified $\\vec{k}$ mesh with the one used in the previous example. What changed?"
   ]
  },
  {
   "cell_type": "markdown",
   "metadata": {},
   "source": [
    "<details>\n",
    "<summary> Click to see the answer! </summary>\n",
    "\n",
    "The [Monkhorst Pack](https://www.vasp.at/wiki/index.php/KPOINTS#Monkhorst-Pack) mode is used to generate a $\\vec{k}$ mesh with equally spaced $\\vec{k}$ points. The odd number of $\\vec{k}$ points in each direction results in a $\\Gamma$-centered $\\vec{k}$ mesh. We significantly increase the $\\vec{k}$-mesh density to yield a smooth DOS. For the geometry relaxation in [Example 1](#bulk-e01) fewer $\\vec{k}$ points are sufficient to compute the total energy.\n",
    "\n",
    "</details>"
   ]
  },
  {
   "cell_type": "markdown",
   "metadata": {},
   "source": [
    "#### **2.3 Calculation**"
   ]
  },
  {
   "cell_type": "markdown",
   "metadata": {},
   "source": [
    "Open a terminal, navigate to this example's directory and run VASP by entering the following:\n",
    "\n",
    "~~~shell\n",
    "cd $TUTORIALS/bulk-part1/e02_*\n",
    "mpirun -np 2 vasp_std\n",
    "~~~\n"
   ]
  },
  {
   "cell_type": "markdown",
   "metadata": {},
   "source": [
    "Check the [OUTCAR](https://www.vasp.at/wiki/index.php/OUTCAR) file to find at how many $\\vec{k}$ points the Kohn–Sham orbitals and eigenenergies are computed!"
   ]
  },
  {
   "cell_type": "markdown",
   "metadata": {},
   "source": [
    "<details>\n",
    "<summary> Click to see the answer! </summary>\n",
    "\n",
    "The following is an excerpt of [OUTCAR](https://www.vasp.at/wiki/index.php/OUTCAR) file, in which the $\\vec{k}$ mesh is discussed.\n",
    "***\n",
    "```\n",
    " KPOINTS: K-Points                                \n",
    "\n",
    "Automatic generation of k-mesh.\n",
    " Grid dimensions read from file:\n",
    " generate k-points for:   15   15   15\n",
    "\n",
    " Generating k-lattice:\n",
    "\n",
    "  Cartesian coordinates                     Fractional coordinates (reciprocal lattice)\n",
    "     0.017094017  0.017094017 -0.017094017     0.066666667 -0.000000000 -0.000000000\n",
    "    -0.017094017  0.017094017  0.017094017    -0.000000000  0.066666667  0.000000000\n",
    "     0.017094017 -0.017094017  0.017094017     0.000000000  0.000000000  0.066666667\n",
    "\n",
    "  Length of vectors\n",
    "     0.029607706  0.029607706  0.029607706\n",
    "\n",
    "  Shift w.r.t. Gamma in fractional coordinates (k-lattice)\n",
    "     0.000000000  0.000000000  0.000000000\n",
    "\n",
    " TETIRR: Found    484 inequivalent tetrahedra from    20250\n",
    " \n",
    " Subroutine IBZKPT returns following result:\n",
    " ===========================================\n",
    " \n",
    " Found    120 irreducible k-points:\n",
    " \n",
    " Following reciprocal coordinates:\n",
    "            Coordinates               Weight\n",
    "  0.000000  0.000000  0.000000      1.000000\n",
    "  0.066667 -0.000000 -0.000000      8.000000\n",
    "  0.133333  0.000000  0.000000      8.000000\n",
    "  0.200000  0.000000  0.000000      8.000000\n",
    "  0.266667  0.000000 -0.000000      8.000000\n",
    "  0.333333 -0.000000 -0.000000      8.000000\n",
    "    ...\n",
    "```\n",
    "It states that 120 irreducible $\\vec{k}$ points were found and they are listed below with their respective weight. The weight indicates how many equivalent $\\vec{k}$ points exist in the full first Brillouin zone. Any sum over all 3375 $\\vec{k}$ points of the first Brillouin zone, is replaced by a sum over all 120 irreducible $\\vec{k}$ points with these weights.\n",
    "\n",
    "</details>"
   ]
  },
  {
   "cell_type": "markdown",
   "metadata": {},
   "source": [
    "Plot the DOS of fcc Si with py4vasp:"
   ]
  },
  {
   "cell_type": "code",
   "execution_count": null,
   "metadata": {},
   "outputs": [],
   "source": [
    "import py4vasp\n",
    "my_calc = py4vasp.Calculation.from_path(\"./e02_fcc-Si-DOS\") \n",
    "\n",
    "my_calc.dos.plot()"
   ]
  },
  {
   "cell_type": "markdown",
   "metadata": {},
   "source": [
    "Here, the DOS is shifted such that in the plot the Fermi energy is at 0 eV. Let us now plot the DOS in the vicinity of the Fermi energy with a higher resolution! That means we need to recompute the DOS with more points in that energy range, for instance -15 eV to 2 eV. Open your current [OUTCAR](https://www.vasp.at/wiki/index.php/EMAX) file and find the Fermi energy of the converged result, to set the energy range. Create a subdirectory `zoom` and copy the essential input files there. Check out the [NEDOS](https://www.vasp.at/wiki/index.php/NEDOS), [EMIN](https://www.vasp.at/wiki/index.php/EMIN) and [EMAX](https://www.vasp.at/wiki/index.php/EMAX) tag and add them to your [INCAR](https://www.vasp.at/wiki/index.php/EMIN) file. Then, restart the calculation from the existing [CHGCAR](https://www.vasp.at/wiki/index.php/CHGCAR) file!"
   ]
  },
  {
   "cell_type": "markdown",
   "metadata": {},
   "source": [
    "<details>\n",
    "<summary> Click to see the answer! </summary>\n",
    "\n",
    "[OUTCAR](https://www.vasp.at/wiki/index.php/OUTCAR)\n",
    "***\n",
    "```\n",
    " E-fermi :   9.9123     XC(G=0): -11.0959     alpha+bet :-16.1732\n",
    "\n",
    " Fermi energy:         9.9122785711\n",
    "\n",
    " k-point     1 :       0.0000    0.0000    0.0000\n",
    "  band No.  band energies     occupation \n",
    "      1      -4.3780      2.00000\n",
    "      2      20.6956      0.00000\n",
    "      3      20.6956      0.00000\n",
    "      ...\n",
    "```\n",
    "***\n",
    "The Fermi energy is 9.9123 eV.\n",
    "\n",
    "```shell\n",
    "mkdir zoom\n",
    "cp INCAR KPOINTS POSCAR POTCAR CHGCAR zoom/.\n",
    "cd zoom\n",
    "```\n",
    "\n",
    "[INCAR](https://www.vasp.at/wiki/index.php/INCAR)\n",
    "***\n",
    "```\n",
    "System = fcc Si \n",
    "\n",
    "ISMEAR = -5      ! tetrahedron method\n",
    "LORBIT = 11\n",
    "\n",
    "ICHARG = 11      ! read CHGCAR file\n",
    "NEDOS  = 401     ! no of points for DOS\n",
    "EMIN   = -5\n",
    "EMAX   = 12\n",
    "```\n",
    "***\n",
    "\n",
    "Update your [INCAR](https://www.vasp.at/wiki/index.php/INCAR) as above and then run\n",
    "~~~shell\n",
    "    mpirun -np 2 vasp_std\n",
    "~~~\n",
    "\n",
    "<br>\n",
    "\n",
    "You can plot the result in the same way as before. Notice that [EMIN](https://www.vasp.at/wiki/index.php/EMIN) and [EMAX](https://www.vasp.at/wiki/index.php/EMAX) are not defined relative to the Fermi energy.\n",
    "\n",
    "</details>"
   ]
  },
  {
   "cell_type": "code",
   "execution_count": null,
   "metadata": {},
   "outputs": [],
   "source": [
    "import py4vasp\n",
    "my_calc = py4vasp.Calculation.from_path(\"./e02_fcc-Si-DOS/zoom\") \n",
    "\n",
    "my_calc.dos.plot()"
   ]
  },
  {
   "cell_type": "markdown",
   "metadata": {},
   "source": [
    "#### **2.4 Questions**\n",
    "\n",
    "1. Why could you not use **ISMEAR = -5** to perform a geometry relaxation?\n",
    "2. How can you increase the resolution of the DOS? In other words, how can you increase the number of points at which the DOS is computed?\n",
    "3. How many $\\vec{k}$ points are in the first Brillouin zone in this example?\n",
    "4. At how many $\\vec{k}$ points did VASP compute all Kohn–Sham orbitals and corresponding eigenenergies in this example? Why is this number not the same as the number of $\\vec{k}$ points in the first Brillouin zone?"
   ]
  },
  {
   "cell_type": "markdown",
   "metadata": {},
   "source": [
    "***\n",
    "<a name=\"bulk-e03\"></a>\n",
    "### **3 Band structure for face-centered-cubic silicon** <div style=\"float: right\"><a href=#top-bulk-p1>$\\uparrow$</a></div>"
   ]
  },
  {
   "cell_type": "markdown",
   "metadata": {},
   "source": [
    "By the end of this tutorial, you will be able to:\n",
    "- obtain the band structure along a high-symmetry line in reciprocal space\n",
    "- plot the band structure using py4vasp"
   ]
  },
  {
   "cell_type": "markdown",
   "metadata": {},
   "source": [
    "#### **3.1 Task**"
   ]
  },
  {
   "cell_type": "markdown",
   "metadata": {},
   "source": [
    "*Compute the band structure along L-𝝘-X-U and K-𝝘 of fcc Si and plot the result.*\n",
    "\n",
    "Which $\\vec{k}$ points are high symmetry points depends on the space group of your structure. There are a couple of tools that can be used to find the space group and plot the Brillouin zone to pick a $\\vec{k}$ path. One of them is [SeeK-path](https://www.materialscloud.org/work/tools/seekpath), which accepts [POSCAR](https://www.vasp.at/wiki/index.php/POSCAR) files as an input and is accessible via a web interface. You can download this example's [POSCAR](https://www.vasp.at/wiki/index.php/POSCAR) from the file browser. Right-click on the file and select `Download` from the menu. Then, upload this example's [POSCAR](https://www.vasp.at/wiki/index.php/POSCAR) to [SeeK-path](https://www.materialscloud.org/work/tools/seekpath) and plot the Brillouin zone. Identify which coordinates correspond to the given $\\vec{k}$ paths L-𝝘-X-U and K-𝝘 and compare to this example's [KPOINTS](https://www.vasp.at/wiki/index.php/KPOINTS) file!\n",
    "\n",
    "<center><img src=\"e03_fcc-Si-band/seekpath.png\" width=\"350\"></center>"
   ]
  },
  {
   "cell_type": "markdown",
   "metadata": {},
   "source": [
    "#### **3.2 Input**"
   ]
  },
  {
   "cell_type": "markdown",
   "metadata": {},
   "source": [
    "The input files to run this example are prepared at `$TUTORIALS/bulk-part1/e03_fcc-Si-band`. Check them out! \n",
    "\n",
    "In general, you need 5 files as an input for a band structure calculation in VASP: The usual 4, [POSCAR](https://www.vasp.at/wiki/index.php/POSCAR), [INCAR](https://www.vasp.at/wiki/index.php/INCAR), [KPOINTS](https://www.vasp.at/wiki/index.php/KPOINTS) and [POTCAR](https://www.vasp.at/wiki/index.php/POTCAR), and additionally the [CHGCAR](https://www.vasp.at/wiki/index.php/CHGCAR) file of a self-consistent calculation!"
   ]
  },
  {
   "cell_type": "markdown",
   "metadata": {},
   "source": [
    "[POSCAR](https://www.vasp.at/wiki/index.php/POSCAR)\n",
    "***\n",
    "```\n",
    "fcc Si\n",
    "3.9\n",
    " 0.5 0.5 0.0\n",
    " 0.0 0.5 0.5\n",
    " 0.5 0.0 0.5\n",
    "1\n",
    "cartesian\n",
    "0 0 0\n",
    "```\n",
    "***\n",
    "[INCAR](https://www.vasp.at/wiki/index.php/INCAR)\n",
    "***\n",
    "```\n",
    "System = fcc Si \n",
    "\n",
    "ICHARG = 11     ! read CHGCAR file and keep density fixed\n",
    "\n",
    "ENCUT  = 240\n",
    "ISMEAR = 0\n",
    "SIGMA  = 0.1\n",
    "\n",
    "LORBIT = 11\n",
    "```\n",
    "***\n",
    "[KPOINTS](https://www.vasp.at/wiki/index.php/KPOINTS)\n",
    "***\n",
    "```\n",
    "kpoints for band structure L-G-X-U K-G\n",
    " 10\n",
    "line\n",
    "reciprocal\n",
    "  0.50000  0.50000  0.50000   L\n",
    "  0.00000  0.00000  0.00000   G\n",
    "\n",
    "  0.00000  0.00000  0.00000   G\n",
    "  0.00000  0.50000  0.50000   X\n",
    "\n",
    "  0.00000  0.50000  0.50000   X\n",
    "  0.25000  0.62500  0.62500   U\n",
    "\n",
    "  0.37500  0.7500   0.37500   K\n",
    "  0.00000  0.00000  0.00000   G\n",
    "```\n",
    "***\n",
    "[POTCAR](https://www.vasp.at/wiki/index.php/POTCAR)\n",
    "***\n",
    "&emsp;*Pseudopotential of Si.*\n",
    "***\n",
    "[CHGCAR](https://www.vasp.at/wiki/index.php/CHGCAR)\n",
    "***\n",
    "&emsp;*Copied from Example 2.*\n",
    "***"
   ]
  },
  {
   "cell_type": "markdown",
   "metadata": {},
   "source": [
    "Particularly note how to specify the $\\vec{k}$ path in the [KPOINTS](https://www.vasp.at/wiki/index.php/KPOINTS) file. The first letter in line 3 switches on the line mode, which generates points along a path as opposed to in a grid. Read the corresponding [explanation on the VASP Wiki](https://www.vasp.at/wiki/index.php/KPOINTS#Strings_of_k-points_for_bandstructure_calculations)!"
   ]
  },
  {
   "cell_type": "markdown",
   "metadata": {},
   "source": [
    "#### **3.3 Calculation**"
   ]
  },
  {
   "cell_type": "markdown",
   "metadata": {},
   "source": [
    "Open a terminal, navigate to this example's directory, copy the charge density from [Example 2](#bulk-e02) and run VASP by entering the following:\n",
    "~~~shell\n",
    "cd $TUTORIALS/bulk-part1/e03_*\n",
    "cp ../e02_*/CHGCAR .\n",
    "mpirun -np 2 vasp_std\n",
    "~~~\n",
    "\n",
    "Then, plot the band structure using py4vasp!"
   ]
  },
  {
   "cell_type": "code",
   "execution_count": null,
   "metadata": {},
   "outputs": [],
   "source": [
    "import py4vasp \n",
    "my_calc = py4vasp.Calculation.from_path(\"./e03_fcc-Si-band\")\n",
    "\n",
    "my_calc.band.plot()"
   ]
  },
  {
   "cell_type": "markdown",
   "metadata": {},
   "source": [
    "Note that fcc silicon is a metal, in contrast to the well-known semiconducting cubic diamond silicon."
   ]
  },
  {
   "cell_type": "markdown",
   "metadata": {},
   "source": [
    "#### **3.4 Questions**\n",
    "1. Which input files do you need for a band-structure calculation?\n",
    "2. How can you choose and set the $\\vec{k}$ path?"
   ]
  },
  {
   "cell_type": "markdown",
   "metadata": {},
   "source": [
    "***\n",
    "### **Well done! You have finished Part 1 of the bulk tutorial!**\n",
    "\n",
    "[Go to Top $\\uparrow$](#top-bulk-p1)"
   ]
  }
 ],
 "metadata": {
  "kernelspec": {
   "display_name": "Python 3 (ipykernel)",
   "language": "python",
   "name": "python3"
  },
  "language_info": {
   "codemirror_mode": {
    "name": "ipython",
    "version": 3
   },
   "file_extension": ".py",
   "mimetype": "text/x-python",
   "name": "python",
   "nbconvert_exporter": "python",
   "pygments_lexer": "ipython3",
   "version": "3.10.6"
  },
  "widgets": {
   "application/vnd.jupyter.widget-state+json": {
    "state": {},
    "version_major": 2,
    "version_minor": 0
   }
  }
 },
 "nbformat": 4,
 "nbformat_minor": 4
}

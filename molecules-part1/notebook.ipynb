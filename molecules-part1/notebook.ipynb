{
 "cells": [
  {
   "cell_type": "markdown",
   "metadata": {},
   "source": [
    "<a name=\"top-molecules-p1\"></a>\n",
    "# **Part 1: Introduction to VASP**"
   ]
  },
  {
   "cell_type": "markdown",
   "metadata": {
    "tags": []
   },
   "source": [
    "<div class=\"download tutorial\" style=\"float: right\">\n",
    "    <a href=\"../../molecules-part1.zip\" download=\"molecules-part1.zip\"> \n",
    "        <button class=\"btn btn-primary\"> <i class=\"fa fa-download\"></i> Download this tutorial</button>\n",
    "    </a> \n",
    "</div>\n",
    "\n",
    "#### Content \n",
    "&emsp;[1 Isolated oxygen atom](#molecules-e01)  \n",
    "&emsp;[2 Spin-polarized oxygen atom](#molecules-e02)  \n",
    "&emsp;[3 Spin-polarized oxygen atom with low symmetry](#molecules-e03)  "
   ]
  },
  {
   "cell_type": "markdown",
   "metadata": {},
   "source": [
    "***\n",
    "<a name=\"molecules-e01\"></a>\n",
    "### **1 Isolated oxygen atom** <div style=\"float: right\"><a href=#top-molecules-p1>$\\uparrow$</a></div>"
   ]
  },
  {
   "cell_type": "markdown",
   "metadata": {},
   "source": [
    "By the end of this tutorial, you will be able to:\n",
    "- explain a density-functional-theory (DFT) calculation on the level of pseudocode\n",
    "- create input files to run a DFT calculation for an isolated atom\n",
    "- recognize the basic structure of the stdout and **OUTCAR**\n",
    "- extract the relevant energies for molecules and atoms \n",
    "- restart a DFT calculation from the previous Kohn&mdash;Sham (KS) orbitals "
   ]
  },
  {
   "cell_type": "markdown",
   "metadata": {},
   "source": [
    "#### **1.1 Task**"
   ]
  },
  {
   "cell_type": "markdown",
   "metadata": {},
   "source": [
    "*Let's perform a DFT calculation for a single oxygen atom in a large box in order to compute the energies of an isolated atom.*\n",
    "\n",
    "<a name=\"DFT\"></a>\n",
    "DFT is the framework in which the electronic degrees of freedom are treated. On the level of pseudocode that is\n",
    "1. Given the electronic charge density, the Hamiltonian  can be defined.\n",
    "2. The eigenfunctions  and eigenvalues  of the Hamiltonian are computed.\n",
    "3. The electronic charge density  is updated. \n",
    "4. Iterate 1.-3. until converged.\n",
    "\n",
    "For details about the implementation in VASP go to [algorithms used in VASP to calculate the electronic ground state](https://www.vasp.at/wiki/index.php/Algorithms_used_in_VASP_to_calculate_the_electronic_groundstate)."
   ]
  },
  {
   "cell_type": "markdown",
   "metadata": {},
   "source": [
    "#### **1.2 Input**"
   ]
  },
  {
   "cell_type": "markdown",
   "metadata": {},
   "source": [
    "VASP looks in the current directory for four main input files, i.e., [POSCAR](https://www.vasp.at/wiki/index.php/POSCAR), [INCAR](https://www.vasp.at/wiki/index.php/INCAR), [KPOINTS](https://www.vasp.at/wiki/index.php/KPOINTS) and [POTCAR](https://www.vasp.at/wiki/index.php/POTCAR). The general format of each input file is explained in details in the linked articles that lead to the [VASP Wiki](https://www.vasp.at/wiki/index.php/The_VASP_Manual), but below we will discuss the particular choices for this example. \n",
    "\n",
    "The input files to run this example should be prepared at `$TUTORIALS/molecules-part1/e01_O-DFT`. \n",
    "\n",
    "Open the terminal and navigate to this examples directory. Confirm that all files are present: \n",
    "~~~shell\n",
    "cd $TUTORIALS/molecules-part1/e01_*\n",
    "ls\n",
    "~~~\n",
    "In Jupyter Lab, do the same in the file browser on the left hand side and open the files by double clicking.\n",
    "\n",
    "Let us now discuss the content of the input files! First, we define the position of a single atom in a box in the [POSCAR](https://www.vasp.at/wiki/index.php/POSCAR) file."
   ]
  },
  {
   "cell_type": "markdown",
   "metadata": {},
   "source": [
    "[POSCAR](https://www.vasp.at/wiki/index.php/POSCAR)\n",
    "***\n",
    "```\n",
    "O atom in a box\n",
    " 1.0          ! scaling parameter\n",
    " 8.0 0.0 0.0  ! lattice vector  a(1)\n",
    " 0.0 8.0 0.0  ! lattice vector  a(2)\n",
    " 0.0 0.0 8.0  ! lattice vector  a(3)\n",
    "1             ! number of atoms\n",
    "cart          ! positions in cartesian coordinates\n",
    " 0 0 0\n",
    "```\n",
    "***"
   ]
  },
  {
   "cell_type": "markdown",
   "metadata": {},
   "source": [
    "The lattice parameters are set to be sufficiently large, i.e., 8 Å, so that no *significant* interaction between atoms in neighboring cells occurs. "
   ]
  },
  {
   "cell_type": "markdown",
   "metadata": {},
   "source": [
    "In general, the [INCAR](https://www.vasp.at/wiki/index.php/INCAR) file contains tags that control the calculation. These tags are documented on the [VASP Wiki](https://www.vasp.at/wiki/index.php/The_VASP_Manual) in the [category](https://www.vasp.at/wiki/index.php/Category:INCAR) and have some default value in case they are not set in the [INCAR](https://www.vasp.at/wiki/index.php/INCAR) file. These default values will start a DFT calculation. Check out the tags explicitly set in this example!\n",
    "\n",
    "[INCAR](https://www.vasp.at/wiki/index.php/INCAR)\n",
    "***\n",
    "```\n",
    "SYSTEM = O atom in a box\n",
    "ISMEAR = 0  ! Gaussian smearing\n",
    "```\n",
    "***"
   ]
  },
  {
   "cell_type": "markdown",
   "metadata": {},
   "source": [
    "Go ahead and check the meaning of the [SYSTEM](https://www.vasp.at/wiki/index.php/SYSTEM) tag and [ISMEAR = 0](https://www.vasp.at/wiki/index.php/ISMEAR). Also pay attention to related tags!\n",
    "\n",
    "Next, we define a single $\\vec{k}$ point in the [KPOINTS](https://www.vasp.at/wiki/index.php/KPOINTS) file. "
   ]
  },
  {
   "cell_type": "markdown",
   "metadata": {},
   "source": [
    "[KPOINTS](https://www.vasp.at/wiki/index.php/KPOINTS)\n",
    "***\n",
    "```\n",
    "Gamma-point only\n",
    " 0\n",
    "Monkhorst Pack\n",
    " 1 1 1\n",
    " 0 0 0\n",
    "```\n",
    "***\n",
    "\n",
    "One $\\vec{k}$ point suffices to describe an isolated atom or molecule, because a wavevector $\\vec{k}$ connects points separated by a lattice vector, i.e., a translation to a neighboring cell. Thus, including more $\\vec{k}$ points would describe the interaction of oxygen atoms in neighboring cells more accurately. But that interaction should be zero, if we have indeed set the box sufficiently large to describe an isolated atom in the [POSCAR](https://www.vasp.at/wiki/index.php/POSCAR) file."
   ]
  },
  {
   "cell_type": "markdown",
   "metadata": {},
   "source": [
    "The following [POTCAR](https://www.vasp.at/wiki/index.php/POTCAR) file contains the pseudopotential and related data for oxygen. It is rather long, so please open it as a tab using the file browser, but be careful not to edit it! Here is just the head of the [POTCAR](https://www.vasp.at/wiki/index.php/POTCAR) file.\n",
    "\n",
    "[POTCAR](https://www.vasp.at/wiki/index.php/POTCAR) \n",
    "***\n",
    "```\n",
    "  PAW_PBE O 08Apr2002                    \n",
    "   6.00000000000000     \n",
    " parameters from PSCTR are:\n",
    "   VRHFIN =O: s2p4\n",
    "   LEXCH  = PE\n",
    "   EATOM  =   432.3788 eV,   31.7789 Ry\n",
    "\n",
    "   TITEL  = PAW_PBE O 08Apr2002\n",
    "   LULTRA =        F    use ultrasoft PP ?\n",
    "   IUNSCR =        1    unscreen: 0-lin 1-nonlin 2-no\n",
    "   RPACOR =    1.200    partial core radius\n",
    "   POMASS =   16.000; ZVAL   =    6.000    mass and valenz\n",
    "```\n",
    "***\n",
    "The tags here do not need to be understood in detail! Only one thing might be noteworthy: In line 4, you can see the valence configuration of oxygen, and in the last line [ZVAL](https://www.vasp.at/wiki/index.php/ZVAL) = 6 indicates that there are 6 valence electrons."
   ]
  },
  {
   "cell_type": "markdown",
   "metadata": {},
   "source": [
    "#### **1.3 Calculation**"
   ]
  },
  {
   "cell_type": "markdown",
   "metadata": {},
   "source": [
    "Let us now run VASP with the input discussed above! Open a terminal, navigate to this example's directory and run VASP by entering the following:\n",
    "~~~shell\n",
    "cd $TUTORIALS/molecules-part1/e01_*\n",
    "mpirun -np 2 vasp_std\n",
    "~~~\n",
    "\n",
    "VASP is a Fortran-based program with an executable `vasp_std`. It can be executed in parallel using `mpirun`. In order to understand how to control `mpirun` enter: \n",
    "~~~shell\n",
    "man mpirun\n",
    "~~~ \n",
    "How to efficiently parallelize your calculation is an advanced topic."
   ]
  },
  {
   "cell_type": "markdown",
   "metadata": {
    "tags": []
   },
   "source": [
    "##### **1.3.1 stdout**\n",
    "After you run VASP, the following [stdout](https://en.wikipedia.org/wiki/Standard_streams) will be printed to the terminal:\n",
    "***\n",
    "\n",
    "```\n",
    " running on    2 total cores\n",
    " distrk:  each k-point on    2 cores,    1 groups\n",
    " distr:  one band on    1 cores,    2 groups\n",
    " vasp.6.3.0 16May21 (build Oct 09 2021 15:55:16) complex                        \n",
    "  \n",
    " POSCAR found :  1 types and       1 ions\n",
    " Reading from existing POTCAR\n",
    " scaLAPACK will be used\n",
    " Reading from existing POTCAR\n",
    " LDA part: xc-table for Pade appr. of Perdew\n",
    " POSCAR, INCAR and KPOINTS ok, starting setup\n",
    " FFT: planning ...\n",
    " WAVECAR not read\n",
    " entering main loop\n",
    "       N       E                     dE             d eps       ncg     rms          rms(c)\n",
    "DAV:   1     0.384469864424E+02    0.38447E+02   -0.96726E+02    16   0.293E+02\n",
    "DAV:   2     0.345967752349E+01   -0.34987E+02   -0.34942E+02    32   0.450E+01\n",
    "DAV:   3    -0.244421465184E+00   -0.37041E+01   -0.34307E+01    16   0.308E+01\n",
    "DAV:   4    -0.312489880281E+00   -0.68068E-01   -0.66911E-01    16   0.508E+00\n",
    "DAV:   5    -0.313453098582E+00   -0.96322E-03   -0.96305E-03    32   0.506E-01    0.307E-01\n",
    "DAV:   6    -0.314470890869E+00   -0.10178E-02   -0.17849E-03    16   0.332E-01    0.155E-01\n",
    "DAV:   7    -0.314569344422E+00   -0.98454E-04   -0.23774E-04    16   0.137E-01\n",
    "   1 F= -.31456934E+00 E0= -.16030702E+00  d E =-.308525E+00\n",
    " writing wavefunctions\n",
    "```"
   ]
  },
  {
   "cell_type": "markdown",
   "metadata": {},
   "source": [
    "***\n",
    "Let us understand this output! After the setup, it says `entering main loop`. For each iteration step of the DFT calculation, that is treated by a [Davidson iteration scheme](https://www.vasp.at/wiki/index.php/Davidson_iteration_scheme), a summary is written:   \n",
    "\n",
    "| tag | meaning |\n",
    "| --- | --- |  \n",
    "| `N`   | iteration count | \n",
    "|`E` | total energy |\n",
    "|`dE`|change of the total energy|\n",
    "|`d eps`| change of the eigenvalues| \n",
    "|`ncg `|number of optimization steps to iteratively diagonalize the Hamiltonian|\n",
    "|`rms` |weighted absolute value of the residual vector of the KS orbitals|\n",
    "|`rms(c)`|absolute value of the [charge density residual vector](https://www.vasp.at/wiki/index.php/Density_Mixing)|\n",
    "\n",
    "After convergence is reached, the final line summarizes:  \n",
    "\n",
    "| tag | meaning |\n",
    "| --- | --- | \n",
    "| `F` | the total free energy |\n",
    "| `E0` | the converged total energy `E` |\n",
    "| `d E` | the final change of the total energy due to the entropy `T*S` term discussed below|\n",
    "\n",
    "**Note:**\n",
    "- The initial electronic charge density is read from the [POTCAR](https://www.vasp.at/wiki/index.php/POTCAR) file and remains fixed for the first $4$ steps. This is because the Hamiltonian is iteratively diagonalized and, thus, the KS orbitals used to update the charge density should only be trusted after a warm-up period. Then, the charge density is updated before entering the next iteration step, i.e., not in the final iteration step. See `rms(c)` column.\n",
    "- The default convergence criterion is `dE` $< 10^{-4}$ and `d eps` $< 10^{-4}$.\n"
   ]
  },
  {
   "cell_type": "markdown",
   "metadata": {},
   "source": [
    "##### **1.3.2 OUTCAR**\n",
    "\n",
    "The [OUTCAR](https://www.vasp.at/wiki/index.php/OUTCAR) file is a more detailed log of the calculation. *Open the file from the file browser* on the left to get a brief look! \n",
    "\n",
    "The file is divided in parts by lines. The exact information that can be found in the [OUTCAR](https://www.vasp.at/wiki/index.php/OUTCAR) file strongly depends on the calculation. In this example, we can find the following parts: \n",
    "- Version and execution details.\n",
    "- Reading of [INCAR](https://www.vasp.at/wiki/index.php/INCAR), [POSCAR](https://www.vasp.at/wiki/index.php/POSCAR) and [POTCAR](https://www.vasp.at/wiki/index.php/POTCAR).\n",
    "- Analysis of nearest-neighbor distances and symmetries.\n",
    "- Tags and parameters set by [INCAR](https://www.vasp.at/wiki/index.php/INCAR), [POSCAR](https://www.vasp.at/wiki/index.php/POSCAR), [POTCAR](https://www.vasp.at/wiki/index.php/POTCAR) and [KPOINTS](https://www.vasp.at/wiki/index.php/KPOINTS) or by default.\n",
    "- Verbose information describing the calculation.\n",
    "- Information on the lattice, the $\\vec{k}$ points and the positions.\n",
    "- Information on the basis set, e.g., number of plane waves.\n",
    "- Information concerning the nonlocal pseudopotential.\n",
    "- Details for each DFT iteration step.\n",
    "- Computed quantities, such as energies, forces, etc.\n",
    "- Computational time.\n",
    "\n",
    "On a high-performance computer, you are likely to open your [OUTCAR](https://www.vasp.at/wiki/index.php/OUTCAR) file directly in the terminal from this example's directory, e.g., using `vim`:\n",
    "~~~shell\n",
    "vim OUTCAR\n",
    "~~~\n",
    "`vim` opens directly in the terminal window and can be quit by entering `:q`+<kbd>enter</kbd>. To search a string, enter `/mystring`+<kbd>enter</kbd>.\n",
    "\n",
    "Let us have a closer look at the information concerning the eigenvalues after convergence!\n",
    "Try to find the following information in the [OUTCAR](https://www.vasp.at/wiki/index.php/OUTCAR) file:\n",
    "\n",
    "```\n",
    " E-fermi :  -8.8433     XC(G=0):  -0.8046     alpha+bet : -0.1463\n",
    "\n",
    " Fermi energy:        -8.8432905119\n",
    "\n",
    " k-point     1 :       0.0000    0.0000    0.0000\n",
    "  band No.  band energies     occupation \n",
    "      1     -23.8440      2.00000\n",
    "      2      -8.9042      1.33333\n",
    "      3      -8.9042      1.33333\n",
    "      4      -8.9042      1.33333\n",
    "      5      -0.4679      0.00000\n",
    "      6       1.8630      0.00000\n",
    "      7       1.8630      0.00000\n",
    "      8       1.8630      0.00000\n",
    "```"
   ]
  },
  {
   "cell_type": "markdown",
   "metadata": {},
   "source": [
    "The Fermi energy is the value of `E-fermi` in eV and must be subtracted from the eigenvalues of the Hamiltonian (`band energies`) before interpreting these. Then, all states with negative energy are occupied (`occupation`). Note that your results might slightly differ, because the chosen settings result in a low precision.    \n",
    "\n",
    "How does the DFT result for the band energies and occupation relate to the occupation of energy levels in the real physical system of an isolated oxygen atom? "
   ]
  },
  {
   "cell_type": "markdown",
   "metadata": {},
   "source": [
    "<details>\n",
    "<summary> Click to see the answer! </summary>\n",
    "\n",
    "Oxygen ([He]2*s*$^2$2*p*$^4$) has six valence electrons, which correspond to two 2*s* electrons and four 2*p* electrons. From the energies we can infer that the $2s$ electrons are at\n",
    "\n",
    "$$\n",
    "-23.8439~\\text{eV} + 8.8431~\\text{eV} = -15.0008~\\text{eV}\n",
    "$$\n",
    "\n",
    "below the Fermi energy, because 2*s* is expected to be more tightly bound than 2*p*. The three 2*p* orbitals are degenerate and occupied by four electrons.  Thus, \"the forth\" electron is equally likely to be in any of the 2*p* orbitals, which is reflected by the `occupation` of `band 2`, `3` and `4` reading `1.33333`.\n",
    "\n",
    "</details>"
   ]
  },
  {
   "cell_type": "markdown",
   "metadata": {},
   "source": [
    "Next, let us have a closer look at the information about the free energy at the end of the file:\n",
    "```\n",
    "  FREE ENERGIE OF THE ION-ELECTRON SYSTEM (eV)\n",
    "  ---------------------------------------------------\n",
    "  free  energy   TOTEN  =        -0.31456934 eV\n",
    "\n",
    "  energy  without entropy=       -0.00604470  energy(sigma->0) =       -0.16030702\n",
    "```"
   ]
  },
  {
   "cell_type": "markdown",
   "metadata": {},
   "source": [
    "and\n",
    "```\n",
    "  entropy T*S    EENTRO =        -0.30852464\n",
    "```"
   ]
  },
  {
   "cell_type": "markdown",
   "metadata": {},
   "source": [
    "in the list of energies of the last iteration.\n",
    "\n",
    "The degeneracy of the 2*p* orbitals introduces an unphysical entropy (`S`). And [SIGMA](https://www.vasp.at/wiki/index.php/SIGMA), which is the broadening of energy levels introduced by the Gaussian smearing, can be interpreted as an artificial electronic temperature (`T`). A smaller value of [SIGMA](https://www.vasp.at/wiki/index.php/SIGMA) would reduce the entropy, but might slow down convergence. This leads to an unphysical term (`T*S`) in the free energy. \n",
    "\n",
    "The reference system for which the [pseudopotentials](https://www.vasp.at/wiki/index.php/Available_PAW_potentials) have been generated are isolated, nonspinpolarized atoms. Why is the total energy (`energy  without entropy`) in this calculation close to zero?"
   ]
  },
  {
   "cell_type": "markdown",
   "metadata": {},
   "source": [
    "<details>\n",
    "<summary> Click to see the answer! </summary>\n",
    "\n",
    "In this calculation, the total energy (`energy  without entropy`) of the single, isolated oxygen atom is close to zero. And actually, if the box size were larger and the precision of the calculation higher, it would go to zero. This is only because all [pseudopotentials](https://www.vasp.at/wiki/index.php/Available_PAW_potentials) have been generated for isolated, nonspinpolarized atoms. So we are comparing the reference system with itself. Keep in mind that, while the choice of the reference system is generally arbitrary, as soon as you do calculations for more atoms or in a smaller box, i.e., not isolated systems, the absolute values of energies become physically meaningless. In general, only relative energies (band energies w.r.t. Fermi level, total energies of two related systems etc.) can be interpreted and have physical meaning. \n",
    "    \n",
    "</details>"
   ]
  },
  {
   "cell_type": "markdown",
   "metadata": {},
   "source": [
    "##### **1.3.3 Restarting a calculation**\n",
    "\n",
    "The default way of restarting a calculation is to read the KS orbitals from the [WAVECAR](https://www.vasp.at/wiki/index.php/WAVECAR) file. Try to restart and check the **stdout** to confirm that the calculation rapidly converges! For a fresh calculation, the [WAVECAR](https://www.vasp.at/wiki/index.php/WAVECAR) file should be removed. How can you do that?"
   ]
  },
  {
   "cell_type": "markdown",
   "metadata": {},
   "source": [
    "<details>\n",
    "<summary> Click to see the answer! </summary>\n",
    "\n",
    "In the terminal, navigate to this example's directory and enter: \n",
    "<br>\n",
    "\n",
    "~~~shell\n",
    "    rm WAVECAR  \n",
    "~~~ \n",
    "\n",
    "<br>\n",
    "This is most likely how you will work on a high performance computer, nevertheless you may use the file browser and delete the file by selecting to delete it from the drop down menu.\n",
    "\n",
    "\n",
    "</details>"
   ]
  },
  {
   "cell_type": "markdown",
   "metadata": {},
   "source": [
    "#### **1.4 Questions**\n",
    "\n",
    "1. What does the tag **ISMEAR = 0** mean? How is it connected to **SIGMA**?\n",
    "2. How many $\\vec{k}$ points are necessary to describe an isolated atom? Why?\n",
    "3. How many times is the electronic charge density updated in this example? Why?\n",
    "4. Where can you find the total energy in the **OUTCAR** file? Why is this value close to zero in this example?\n",
    "5. Where can you find the eigenvalues of the Hamiltonian and the Fermi energy in the **OUTCAR** file? \n",
    "6. Which file must be in the current directory to restart a calculation from the previous run by default?"
   ]
  },
  {
   "cell_type": "markdown",
   "metadata": {},
   "source": [
    "***\n",
    "<a name=\"molecules-e02\"></a>\n",
    "### **2 Spin-polarized oxygen atom** <div style=\"float: right\"><a href=#top-molecules-p1>$\\uparrow$</a></div>"
   ]
  },
  {
   "cell_type": "markdown",
   "metadata": {},
   "source": [
    "By the end of this tutorial, you will be able to:\n",
    "- switch on spin polarization to run a spin-density-functional-theory (SDFT) calculation\n",
    "- infer the spin magnetization from the eigenvalues of the Hamiltonian and the occupation of the two spin components\n",
    "- decide when to run a calculation with `vasp_gam`"
   ]
  },
  {
   "cell_type": "markdown",
   "metadata": {},
   "source": [
    "#### **2.1 Task**"
   ]
  },
  {
   "cell_type": "markdown",
   "metadata": {},
   "source": [
    "*Perform a SDFT calculation for an isolated oxygen atom in order to extract the spin magnetization.*\n",
    "\n",
    "In SDFT the Hamiltonian is a $2\\times2$ matrix and the KS orbitals are two component vectors. Here, the two components correspond to spin up and down in the isolated oxygen atom, which are allowed to have different eigenvalues. The interaction between spin components is effectively considered by separately computing the KS orbitals for both spin components for an effective Hamiltonian that takes into account both, spin-up and spin-down, charge densities. "
   ]
  },
  {
   "cell_type": "markdown",
   "metadata": {},
   "source": [
    "#### **2.2 Input**"
   ]
  },
  {
   "cell_type": "markdown",
   "metadata": {},
   "source": [
    "The input files to run this example are prepared at `$TUTORIALS/molecules-part1/e02_O-SDFT`. \n",
    "\n",
    "Check out the input files, i.e., [POSCAR](https://www.vasp.at/wiki/index.php/POSCAR), [INCAR](https://www.vasp.at/wiki/index.php/INCAR), [KPOINTS](https://www.vasp.at/wiki/index.php/KPOINTS) and [POTCAR](https://www.vasp.at/wiki/index.php/POTCAR)!"
   ]
  },
  {
   "cell_type": "markdown",
   "metadata": {},
   "source": [
    "[POSCAR](https://www.vasp.at/wiki/index.php/POSCAR)\n",
    "***\n",
    "```\n",
    "O atom in a box\n",
    " 1.0          ! universal scaling parameters\n",
    " 8.0 0.0 0.0  ! lattice vector  a(1)\n",
    " 0.0 8.0 0.0  ! lattice vector  a(2)\n",
    " 0.0 0.0 8.0  ! lattice vector  a(3)\n",
    "1             ! number of atoms\n",
    "cart          ! positions in cartesian coordinates\n",
    " 0 0 0\n",
    "```\n",
    "***\n",
    "\n",
    "[INCAR](https://www.vasp.at/wiki/index.php/INCAR)\n",
    "***\n",
    "```\n",
    " SYSTEM = O atom in a box\n",
    " ISMEAR = 0  ! Gaussian smearing\n",
    " ISPIN =  2  ! spin polarized calculation\n",
    "```\n",
    "***\n",
    "\n",
    "[KPOINTS](https://www.vasp.at/wiki/index.php/KPOINTS)\n",
    "***\n",
    "```\n",
    "Gamma-point only\n",
    " 0\n",
    "Monkhorst Pack\n",
    " 1 1 1\n",
    " 0 0 0\n",
    "```\n",
    "***\n",
    "\n",
    "[POTCAR](https://www.vasp.at/wiki/index.php/POTCAR)\n",
    "***\n",
    "&emsp;*Pseudopotential of O*\n",
    "***"
   ]
  },
  {
   "cell_type": "markdown",
   "metadata": {},
   "source": [
    "Starting from [1 Isolated oxygen atom](#e01), here, we added [ISPIN = 2](https://www.vasp.at/wiki/index.php/ISPIN) and start a fresh calculation. Check out the [ISPIN](https://www.vasp.at/wiki/index.php/ISPIN) tag on the [VASP Wiki](https://www.vasp.at/wiki/index.php)!"
   ]
  },
  {
   "cell_type": "markdown",
   "metadata": {},
   "source": [
    "#### **2.3 Calculation**"
   ]
  },
  {
   "cell_type": "markdown",
   "metadata": {},
   "source": [
    "Open a terminal, navigate to this examples directory and run VASP by entering the following lines into the terminal:\n",
    "~~~shell\n",
    "cd $TUTORIALS/molecules-part1/e02_*\n",
    "mpirun -np 2 vasp_gam\n",
    "~~~\n",
    "\n",
    "In case the [KPOINTS](https://www.vasp.at/wiki/index.php/KPOINTS) file contains only the Gamma point, one can use the `vasp_gam` executable instead of `vasp_std`. This will treat some arrays as real numbers instead of complex numbers, and is thus computationally cheaper. But mind that the assumption is only valid for calculations where only the Gamma point is considered."
   ]
  },
  {
   "cell_type": "markdown",
   "metadata": {},
   "source": [
    "##### **2.3.1 stdout**"
   ]
  },
  {
   "cell_type": "markdown",
   "metadata": {},
   "source": [
    "<details>\n",
    "<summary> Click to check that you obtain a similar standard output! </summary>\n",
    "\n",
    "***\n",
    "```\n",
    " running on    2 total cores\n",
    " distrk:  each k-point on    2 cores,    1 groups\n",
    " distr:  one band on    1 cores,    2 groups\n",
    " vasp.6.3.0 16May21 (build Oct 09 2021 15:55:16) complex                        \n",
    "  \n",
    " POSCAR found :  1 types and       1 ions\n",
    " Reading from existing POTCAR\n",
    " -----------------------------------------------------------------------------\n",
    "|                                                                             |\n",
    "|           W    W    AA    RRRRR   N    N  II  N    N   GGGG   !!!           |\n",
    "|           W    W   A  A   R    R  NN   N  II  NN   N  G    G  !!!           |\n",
    "|           W    W  A    A  R    R  N N  N  II  N N  N  G       !!!           |\n",
    "|           W WW W  AAAAAA  RRRRR   N  N N  II  N  N N  G  GGG   !            |\n",
    "|           WW  WW  A    A  R   R   N   NN  II  N   NN  G    G                |\n",
    "|           W    W  A    A  R    R  N    N  II  N    N   GGGG   !!!           |\n",
    "|                                                                             |\n",
    "|     You use a magnetic or noncollinear calculation, but did not specify     |\n",
    "|     the initial magnetic moment with the MAGMOM tag. Note that a            |\n",
    "|     default of 1 will be used for all atoms. This ferromagnetic setup       |\n",
    "|     may break the symmetry of the crystal, in particular it may rule        |\n",
    "|     out finding an antiferromagnetic solution. Thence, we recommend         |\n",
    "|     setting the initial magnetic moment manually or verifying carefully     |\n",
    "|     that this magnetic setup is desired.                                    |\n",
    "|                                                                             |\n",
    " -----------------------------------------------------------------------------\n",
    "\n",
    " scaLAPACK will be used\n",
    " Reading from existing POTCAR\n",
    " LDA part: xc-table for Pade appr. of Perdew\n",
    " POSCAR, INCAR and KPOINTS ok, starting setup\n",
    " FFT: planning ...\n",
    " WAVECAR not read\n",
    " entering main loop\n",
    "       N       E                     dE             d eps       ncg     rms          rms(c)\n",
    "DAV:   1     0.389725260694E+02    0.38973E+02   -0.10098E+03    32   0.259E+02\n",
    "DAV:   2     0.317915985579E+01   -0.35793E+02   -0.35786E+02    64   0.438E+01\n",
    "DAV:   3    -0.119079350189E+01   -0.43700E+01   -0.36688E+01    32   0.328E+01\n",
    "DAV:   4    -0.126191802522E+01   -0.71125E-01   -0.69187E-01    32   0.508E+00\n",
    "DAV:   5    -0.126277731595E+01   -0.85929E-03   -0.85922E-03    48   0.504E-01    0.654E+00\n",
    "DAV:   6     0.164099304113E+00    0.14269E+01   -0.32210E+00    32   0.894E+00    0.152E+00\n",
    "DAV:   7    -0.112530565028E+01   -0.12894E+01   -0.77968E-01    32   0.398E+00    0.401E-01\n",
    "DAV:   8    -0.153722308977E+01   -0.41192E+00   -0.11021E-01    48   0.146E+00    0.266E-01\n",
    "DAV:   9    -0.160894087591E+01   -0.71718E-01   -0.55023E-03    32   0.412E-01    0.129E-01\n",
    "DAV:  10    -0.167216457827E+01   -0.63224E-01   -0.15822E-02    32   0.576E-01    0.605E-02\n",
    "DAV:  11    -0.167192460954E+01    0.23997E-03   -0.49458E-04    32   0.131E-01    0.179E-02\n",
    "DAV:  12    -0.167270841708E+01   -0.78381E-03   -0.10283E-04    32   0.459E-02    0.127E-02\n",
    "DAV:  13    -0.167295633802E+01   -0.24792E-03   -0.12473E-05    32   0.197E-02    0.961E-03\n",
    "DAV:  14    -0.167295985216E+01   -0.35141E-05   -0.29861E-06    32   0.108E-02\n",
    "   1 F= -.16729599E+01 E0= -.15958287E+01  d E =-.154262E+00  mag=     1.9998\n",
    "```\n",
    "***\n",
    "    \n",
    "</details>    "
   ]
  },
  {
   "cell_type": "markdown",
   "metadata": {},
   "source": [
    "Why is there a warning?"
   ]
  },
  {
   "cell_type": "markdown",
   "metadata": {},
   "source": [
    "<details>\n",
    "<summary> Click to see the answer! </summary>\n",
    "\n",
    "The warning is related to the default value set for the [MAGMOM](https://www.vasp.at/wiki/index.php/MAGMOM) tag, because we have set [ISPIN = 2](https://www.vasp.at/wiki/index.php/ISPIN). Generally receiving a warning does not mean your calculation is faulty, but that you should check if this setting was intended. Warnings should help to avoid common pitfalls or improve computational performance.\n",
    "\n",
    "</details>"
   ]
  },
  {
   "cell_type": "markdown",
   "metadata": {},
   "source": [
    "##### **2.3.2 OUTCAR**\n",
    "\n",
    "Let us have a look at the eigenvalues of the two spin components in your [OUTCAR](https://www.vasp.at/wiki/index.php/OUTCAR).\n",
    "Open the file from the file browser or in the terminal using `vim`:\n",
    "~~~shell\n",
    "vim $TUTORIALS/molecules-part1/e02_*/OUTCAR\n",
    "~~~\n",
    "Then, find the following information:\n",
    "```\n",
    "spin component 1\n",
    "  \n",
    "k-point     1 :       0.0000    0.0000    0.0000\n",
    " band No.  band energies     occupation\n",
    "     1     -25.0878      1.00000\n",
    "     2     -10.0830      1.00000\n",
    "     3     -10.0830      1.00000\n",
    "     4     -10.0830      1.00000\n",
    "     5      -0.4932      0.00000\n",
    "     6       1.8213      0.00000\n",
    "     7       1.8303      0.00000\n",
    "     8       1.8303      0.00000\n",
    "and\n",
    "spin component 2\n",
    "  \n",
    "k-point     1 :       0.0000    0.0000    0.0000\n",
    " band No.  band energies     occupation\n",
    "     1     -21.8396      1.00000\n",
    "     2      -7.0543      0.33333\n",
    "     3      -7.0543      0.33333\n",
    "     4      -7.0543      0.33333\n",
    "     5      -0.3594      0.00000\n",
    "     6       1.9830      0.00000\n",
    "     7       1.9830      0.00000\n",
    "     8       1.9830      0.00000\n",
    "```"
   ]
  },
  {
   "cell_type": "markdown",
   "metadata": {},
   "source": [
    "Is this system spin-polarized?"
   ]
  },
  {
   "cell_type": "markdown",
   "metadata": {},
   "source": [
    "<details>\n",
    "<summary> Click to see the answer! </summary>\n",
    "\n",
    "Yes, we see that the spin components have different eigenvalues, so the SDFT ground state is spin-polarized. In agreement with [Hund’s rules](https://en.wikipedia.org/wiki/Hund%27s_rules), first each 2*p* orbital is occupied with one spin direction, e.g., spin up, as reflected by the `occupation` of `spin component 1`. Then, the \"forth\" 2*p* electron has spin down, which leads to `occupation` of `0.33333` in `band No. 2`-`4` of `spin component 2`.\n",
    "\n",
    "</details>"
   ]
  },
  {
   "cell_type": "markdown",
   "metadata": {},
   "source": [
    "The spin magnetization is the expectation value of the magnetic moment due to the spin. In other words, it is the projection along the spin-quantization axis, e.g., the $z$ axis. Therefore, the spin magnetization is \n",
    "$$\n",
    "\\langle \\mu_{s,z} \\rangle=g_s\\langle\\frac{1}{2} \\sigma_z\\rangle\\mu_B,\n",
    "$$ \n",
    "where $g_s\\approx 2$ is the spin g-factor, $\\sigma_z$ is a Pauli matrix, and $\\mu_B$ is the Bohr magneton. \n",
    "What value does $\\langle \\mu_{s,z} \\rangle$ have in this example?"
   ]
  },
  {
   "cell_type": "markdown",
   "metadata": {},
   "source": [
    "<details>\n",
    "<summary> Click to see the answer! </summary>\n",
    "\n",
    "The <code>spin component 1</code> has two more electrons as seen by comparing the occupation. Hence, $\\langle \\mu_{s,z} \\rangle=2\\mu_B$ and the summary, after the convergence has been reached, in the <b>stdout</b> indeed states <code>mag= 1.9999</code> corresponding to $\\langle \\mu_{s,z} \\rangle$.\n",
    "\n",
    "</details>"
   ]
  },
  {
   "cell_type": "markdown",
   "metadata": {},
   "source": [
    "#### **2.4 Questions**\n",
    "1. Which value of **ISPIN** switches spin-polarization off?\n",
    "2. Are the band energies of `spin component 1` and `spin component 2` equal? How about the Fermi energy? \n",
    "3. How can you compute the magnetization based on the occupation of the two spin components?"
   ]
  },
  {
   "cell_type": "markdown",
   "metadata": {},
   "source": [
    "***\n",
    "<a name=\"molecules-e03\"></a>\n",
    "### **3 Spin-polarized oxygen atom with low symmetry** <div style=\"float: right\"><a href=#top-molecules-p1>$\\uparrow$</a></div>"
   ]
  },
  {
   "cell_type": "markdown",
   "metadata": {},
   "source": [
    "By the end of this tutorial, you will be able to:\n",
    "- find the symmetry that is imposed on the electronic charge density\n",
    "- explain how the imposed symmetry is extracted from the input\n",
    "- consider whether the total energy of two calculations can be compared"
   ]
  },
  {
   "cell_type": "markdown",
   "metadata": {},
   "source": [
    "#### **3.1 Task**"
   ]
  },
  {
   "cell_type": "markdown",
   "metadata": {},
   "source": [
    "*Perform an SDFT calculation for an isolated oxygen atom with orthorhombic symmetry (D$_{2h}$) and compare it to the calculation with cubic symmetry (O$_h$).*\n",
    "\n",
    "There are [$32$ crystallographic point groups](https://en.wikipedia.org/wiki/Crystallographic_point_group), which are discrete rotational symmetries of crystals. In order to reduce the computational effort, VASP searches and takes advantage of all symmetries of the system by default. This helps to efficiently solve large systems, but it is important to ensure that no symmetry is imposed, that the ground state is not expected to have! In particular, even when the physical system prefers a different symmetry, the use of periodic boundary conditions may impose a symmetry on the solution, if it is not manually switched off.\n",
    "\n",
    "For more information about the determination of symmetries in VASP read about the [ISYM](https://www.vasp.at/wiki/index.php/ISYM) tag."
   ]
  },
  {
   "cell_type": "markdown",
   "metadata": {},
   "source": [
    "#### **3.2 Input**"
   ]
  },
  {
   "cell_type": "markdown",
   "metadata": {},
   "source": [
    "The input files to run this example are prepared at `$TUTORIALS/molecules-part1/e03_O-SDFT-symm`. Check the input files!\n",
    "\n",
    "The point group symmetry is determined such that it is consistent with the structure in the [POSCAR](https://www.vasp.at/wiki/index.php/POSCAR) file and applied to the solution if the [ISYM](https://www.vasp.at/wiki/index.php/ISYM) tag has its default value. The calculation in [Example 2](#molecules-e02) is the desired calculation with cubic symmetry (O$_h$), because all lattice vectors have equal length and enclose $90^\\circ$ and the single atom at the origin does not break any symmetry. "
   ]
  },
  {
   "cell_type": "markdown",
   "metadata": {},
   "source": [
    "[POSCAR](https://www.vasp.at/wiki/index.php/POSCAR)\n",
    "***\n",
    "```\n",
    "O atom in a box\n",
    " 1.0          ! scaling parameters\n",
    " 7.0 0.0 0.0  ! lattice vector 1\n",
    " 0.0 7.5 0.0  ! lattice vector 2\n",
    " 0.0 0.0 8.0  ! lattice vector 3\n",
    "1             ! number of atoms\n",
    "Cartesian     ! positions in Cartesian coordinates\n",
    " 0 0 0        ! position of the atom\n",
    "```\n",
    "***\n",
    "[INCAR](https://www.vasp.at/wiki/index.php/INCAR)\n",
    "***\n",
    "```\n",
    "SYSTEM = O atom in a box\n",
    "ISMEAR = 0       ! Gaussian smearing\n",
    "ISPIN  = 2       ! spin polarized calculation\n",
    "```\n",
    "***\n",
    "[KPOINTS](https://www.vasp.at/wiki/index.php/KPOINTS)\n",
    "***\n",
    "```\n",
    "Gamma-point only\n",
    " 0\n",
    "Monkhorst Pack\n",
    " 1 1 1\n",
    " 0 0 0\n",
    "```\n",
    "***\n",
    "[POTCAR](https://www.vasp.at/wiki/index.php/POTCAR)\n",
    "***\n",
    "&emsp;*Pseudopotential of O*\n",
    "***"
   ]
  },
  {
   "cell_type": "markdown",
   "metadata": {},
   "source": [
    "Check out the meaning of all tags used in the [INCAR](https://www.vasp.at/wiki/index.php/INCAR) file on the [VASP Wiki](https://www.vasp.at/wiki/index.php)! Does this calculation include the effects of spin-orbit coupling? Or in other words, is the spin degree of freedom coupled to spacial degrees of freedom?"
   ]
  },
  {
   "cell_type": "markdown",
   "metadata": {},
   "source": [
    "<details>\n",
    "<summary> Click to see the answer! </summary>\n",
    "\n",
    "No! This calculation accounts for spin polarization by treating two spin components separately to arrive at a self-consistent solution for a non-relativistic Hamiltonian. Spin-orbit coupling is a relativistic correction that can be switched on in VASP using the [LSORBIT](https://www.vasp.at/wiki/index.php/LSORBIT) tag.\n",
    "\n",
    "</details>"
   ]
  },
  {
   "cell_type": "markdown",
   "metadata": {},
   "source": [
    "Consider the box defined in the [POSCAR](https://www.vasp.at/wiki/index.php/POSCAR) file! In contrast to the calculation in [Example 2](#molecules-e02) with cubic symmetry (O$_h$), we change the lattice vectors to obey [orthorhombic symmetry](https://en.wikipedia.org/wiki/Orthorhombic_crystal_system) (D$_{2h}$). In other words, all lattice vectors have distinct length, but still enclose $90^\\circ$.\n",
    "\n",
    "How can the input be changed to run a calculation with [tetragonal symmetry](https://en.wikipedia.org/wiki/Tetragonal_crystal_system) ($D_{4h}$)?"
   ]
  },
  {
   "cell_type": "markdown",
   "metadata": {},
   "source": [
    "<details>\n",
    "<summary> Click to see the answer! </summary>\n",
    "\n",
    "Two lattice vectors must have equal length and all enclose $90^\\circ$.\n",
    "[POSCAR](https://www.vasp.at/wiki/index.php/POSCAR)\n",
    "***\n",
    "```\n",
    "O atom in a box\n",
    " 1.0          ! scaling parameters\n",
    " 7.0 0.0 0.0  ! lattice vector 1\n",
    " 0.0 7.0 0.0  ! lattice vector 2\n",
    " 0.0 0.0 8.0  ! lattice vector 3\n",
    "1             ! number of atoms\n",
    "Cartesian     ! positions in Cartesian coordinates\n",
    " 0 0 0        ! position of the atom\n",
    "```\n",
    "***\n",
    "\n",
    "</details>"
   ]
  },
  {
   "cell_type": "markdown",
   "metadata": {},
   "source": [
    "#### **3.3 Calculation**"
   ]
  },
  {
   "cell_type": "markdown",
   "metadata": {},
   "source": [
    "Run VASP with the input given in [section 3.2](#3.2-Input). In the terminal enter the following:\n",
    "~~~shell\n",
    "cd $TUTORIALS/molecules-part1/e03_*\n",
    "mpirun -np 2 vasp_gam\n",
    "~~~\n",
    "Then, you should check the **stdout**, that is printed to the terminal, and the [OUTCAR](https://www.vasp.at/wiki/index.php/OUTCAR) file.\n",
    "\n",
    "##### **3.3.1 OUTCAR**\n",
    "\n",
    "Try to find the following symmetry analysis in your [OUTCAR](https://www.vasp.at/wiki/index.php/OUTCAR) file.\n",
    "***\n",
    "```\n",
    " ion  position               nearest neighbor table\n",
    "   1  0.000  0.000  0.000-\n",
    " \n",
    "  LATTYP: Found a simple orthorhombic cell.\n",
    " ALAT       =     7.0000000000\n",
    " B/A-ratio  =     1.0714285714\n",
    " C/A-ratio  =     1.1428571429\n",
    "  \n",
    "  Lattice vectors:\n",
    "  \n",
    " A1 = (   7.0000000000,   0.0000000000,   0.0000000000)\n",
    " A2 = (   0.0000000000,   7.5000000000,   0.0000000000)\n",
    " A3 = (   0.0000000000,   0.0000000000,   8.0000000000)\n",
    "\n",
    "\n",
    "Analysis of symmetry for initial positions (statically):\n",
    "=====================================================================\n",
    " Subroutine PRICEL returns:\n",
    " Original cell was already a primitive cell.\n",
    " \n",
    "\n",
    " Routine SETGRP: Setting up the symmetry group for a \n",
    " simple orthorhombic supercell.\n",
    "\n",
    "\n",
    " Subroutine GETGRP returns: Found  8 space group operations\n",
    " (whereof  8 operations were pure point group operations)\n",
    " out of a pool of  8 trial point group operations.\n",
    "\n",
    "\n",
    "The static configuration has the point symmetry D_2h.\n",
    "```\n",
    "***\n",
    "\n",
    "What symmetry do you find in this example? And what did you find in [Example 2](#molecules-e02)?"
   ]
  },
  {
   "cell_type": "markdown",
   "metadata": {},
   "source": [
    "<details>\n",
    "<summary> Click to see the answer! </summary>\n",
    "\n",
    "In this example, VASP finds the orthorhombic symmetry, i.e., ```point symmetry D_2h```, based on the static positions. In [Example 2](#molecules-e02), it found the point symmetry O$_h$.\n",
    "\n",
    "</details>"
   ]
  },
  {
   "cell_type": "markdown",
   "metadata": {},
   "source": [
    "Now, let us compare the total energy (`energy  without entropy`) found for the orthorhombic symmetry,\n",
    "```\n",
    "  energy  without entropy =       -1.51495945  energy(sigma->0) =       -1.59207906,\n",
    "```\n",
    "to the total energy of the calculation with cubic symmetry, which was essentially zero. Which state is more stable? "
   ]
  },
  {
   "cell_type": "markdown",
   "metadata": {},
   "source": [
    "<details>\n",
    "<summary> Click to see the answer! </summary>\n",
    "\n",
    "The calculation with lower symmetry is lower in energy and, thus, presumably closer to the theoretical, approximate many-body ground state. \n",
    "One important choice in DFT is the choice of the <a href=\"https://www.vasp.at/wiki/index.php/Category:XC_Functionals\">exchange-correlation functional</a>, which effectively accounts for many-body effects. Here, we used the default generalized gradient approximation ([GGA](https://www.vasp.at/wiki/index.php/GGA)), which prefers the symmetry broken solution for most atoms.\n",
    "\n",
    "</details>"
   ]
  },
  {
   "cell_type": "markdown",
   "metadata": {},
   "source": [
    "Now, open the [INCAR](https://www.vasp.at/wiki/index.php/INCAR) file of this example from the file browser, and add the tag `SIGMA = 0.01`. Then, run a [fresh calculation](#1.3.3-Restarting-a-calculation)! What is the result of setting [SIGMA](https://www.vasp.at/wiki/index.php/SIGMA) = 0.01?"
   ]
  },
  {
   "cell_type": "markdown",
   "metadata": {},
   "source": [
    "<details>\n",
    "<summary> Click to see an alternative way! </summary>\n",
    "\n",
    "You will obtain:\n",
    "\n",
    "**stdout**\n",
    "***\n",
    "```   \n",
    " running on    2 total cores\n",
    " distrk:  each k-point on    2 cores,    1 groups\n",
    " distr:  one band on    1 cores,    2 groups\n",
    " vasp.6.2.1 16May21 (build Jun 06 2021 00:45:36) complex                        \n",
    "    ....\n",
    "    ....\n",
    "DAV:  15    -0.189033389318E+01   -0.30871E-03   -0.44399E-05    48   0.517E-02    0.961E-03\n",
    "DAV:  16    -0.189062353556E+01   -0.28964E-03   -0.39883E-05    40   0.293E-02    0.586E-03\n",
    "DAV:  17    -0.189067302283E+01   -0.49487E-04   -0.32857E-06    48   0.132E-02\n",
    "   1 F= -.18906730E+01 E0= -.18906730E+01  d E =-.290707E-20  mag=     1.9998\n",
    " writing wavefunctions\n",
    "```\n",
    "***\n",
    "\n",
    "In other words, reducing the default value [SIGMA](https://www.vasp.at/wiki/index.php/SIGMA) = 0.2 to [SIGMA](https://www.vasp.at/wiki/index.php/SIGMA) = 0.01 causes the calculation to take more iterations until convergence is reached.\n",
    "\n",
    "</details>"
   ]
  },
  {
   "cell_type": "markdown",
   "metadata": {},
   "source": [
    "Apart from the symmetry, let us consider the effect of the [SIGMA](https://www.vasp.at/wiki/index.php/SIGMA) tag on the total energy.\n",
    "Find the following line in your [OUTCAR](https://www.vasp.at/wiki/index.php/OUTCAR) file.\n",
    "```\n",
    "  energy without entropy =       -1.89067302  energy(sigma->0) =       -1.89067302\n",
    "```\n",
    "The value changes significantly! This shows that, if the energy of two calculations shall be compared, both calculations must use the same value of the [SIGMA](https://www.vasp.at/wiki/index.php/SIGMA) tag for the Gaussian broadening."
   ]
  },
  {
   "cell_type": "markdown",
   "metadata": {},
   "source": [
    "#### **3.4 Questions**\n",
    "1. How many space-group operations are imposed in the orthorhombic case according to your [OUTCAR](https://www.vasp.at/wiki/index.php/OUTCAR) file?\n",
    "2. How can the input be changed to run a calculation with tetragonal symmetry ($D_{4h}$)?\n",
    "3. Can you compare the energies of calculations with different symmetry, if simultaneously **SIGMA** is changed?"
   ]
  },
  {
   "cell_type": "markdown",
   "metadata": {},
   "source": [
    "***\n",
    "### **Good job! You have finished Part 1 of this tutorial about atoms and molecules!**\n",
    "\n",
    "[Go to top $\\uparrow$](#top-molecules-p1)"
   ]
  }
 ],
 "metadata": {
  "kernelspec": {
   "display_name": "Python 3 (ipykernel)",
   "language": "python",
   "name": "python3"
  },
  "language_info": {
   "codemirror_mode": {
    "name": "ipython",
    "version": 3
   },
   "file_extension": ".py",
   "mimetype": "text/x-python",
   "name": "python",
   "nbconvert_exporter": "python",
   "pygments_lexer": "ipython3",
   "version": "3.10.6"
  },
  "toc-autonumbering": false,
  "toc-showmarkdowntxt": false,
  "widgets": {
   "application/vnd.jupyter.widget-state+json": {
    "state": {},
    "version_major": 2,
    "version_minor": 0
   }
  }
 },
 "nbformat": 4,
 "nbformat_minor": 4
}
